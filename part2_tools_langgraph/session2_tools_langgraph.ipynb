{
 "cells": [
  {
   "cell_type": "markdown",
   "id": "47e109e9",
   "metadata": {},
   "source": [
    "## Loading the environments"
   ]
  },
  {
   "cell_type": "code",
   "execution_count": 8,
   "id": "38a9f50a",
   "metadata": {},
   "outputs": [
    {
     "data": {
      "text/plain": [
       "True"
      ]
     },
     "execution_count": 8,
     "metadata": {},
     "output_type": "execute_result"
    }
   ],
   "source": [
    "import os\n",
    "from dotenv import load_dotenv\n",
    "load_dotenv()"
   ]
  },
  {
   "cell_type": "markdown",
   "id": "9af5fd44",
   "metadata": {},
   "source": [
    "## Importing the packages"
   ]
  },
  {
   "cell_type": "code",
   "execution_count": 9,
   "id": "ba934554",
   "metadata": {},
   "outputs": [],
   "source": [
    "from dotenv import load_dotenv\n",
    "from langchain.prompts import ChatPromptTemplate\n",
    "from langchain_openai import ChatOpenAI\n",
    "from IPython.display import Image, display\n",
    "from langgraph.graph import StateGraph , START , END , MessageGraph \n",
    "from langchain_core.messages import HumanMessage , AIMessage , SystemMessage\n",
    "from typing import TypedDict\n",
    "from typing import Annotated\n",
    "from langgraph.graph.message import add_messages\n",
    "\n",
    "import datetime"
   ]
  },
  {
   "cell_type": "code",
   "execution_count": 10,
   "id": "53f584a4",
   "metadata": {},
   "outputs": [],
   "source": [
    "model = ChatOpenAI(model=\"gpt-4.1-mini\", temperature=0)"
   ]
  },
  {
   "cell_type": "markdown",
   "id": "df486102",
   "metadata": {},
   "source": [
    "## Some utility functions"
   ]
  },
  {
   "cell_type": "code",
   "execution_count": 11,
   "id": "836b6c01",
   "metadata": {},
   "outputs": [],
   "source": [
    "# to display the graph\n",
    "def display_graph(app):\n",
    "    # this function will display the graph of the app\n",
    "    try:\n",
    "        display(Image(app.get_graph().draw_mermaid_png()))\n",
    "    except Exception as e:\n",
    "        # This requires some extra dependencies and is optional\n",
    "        print(e)\n",
    "\n",
    "\n",
    "\n",
    "# To stream the output of the app\n",
    "def stream_output(app, input):\n",
    "    for output in app.stream(input):\n",
    "        for key,value in output.items():\n",
    "            print(f\"here is output from {key}\")\n",
    "            print(\"_______\")\n",
    "            print(value)\n",
    "            print(\"\\n\")"
   ]
  },
  {
   "cell_type": "code",
   "execution_count": 12,
   "id": "bd4be307",
   "metadata": {},
   "outputs": [],
   "source": [
    "#defining the state\n",
    "class State(TypedDict):\n",
    "    messages:Annotated[list,add_messages]"
   ]
  },
  {
   "cell_type": "code",
   "execution_count": 13,
   "id": "81abfb71",
   "metadata": {},
   "outputs": [
    {
     "data": {
      "text/plain": [
       "AIMessage(content=\"I don't have real-time access to current weather data. To get the latest weather information for Hyderabad, you can check a reliable weather website or app like Weather.com, AccuWeather, or use a voice assistant on your device.\", additional_kwargs={'refusal': None}, response_metadata={'token_usage': {'completion_tokens': 46, 'prompt_tokens': 15, 'total_tokens': 61, 'completion_tokens_details': {'accepted_prediction_tokens': 0, 'audio_tokens': 0, 'reasoning_tokens': 0, 'rejected_prediction_tokens': 0}, 'prompt_tokens_details': {'audio_tokens': 0, 'cached_tokens': 0}}, 'model_name': 'gpt-4.1-mini-2025-04-14', 'system_fingerprint': 'fp_658b958c37', 'id': 'chatcmpl-C00b9qizTQcJOET5WqPIibiM5aaTZ', 'service_tier': 'default', 'finish_reason': 'stop', 'logprobs': None}, id='run--ed950d37-f519-44a5-a64f-e3433b0c72d7-0', usage_metadata={'input_tokens': 15, 'output_tokens': 46, 'total_tokens': 61, 'input_token_details': {'audio': 0, 'cache_read': 0}, 'output_token_details': {'audio': 0, 'reasoning': 0}})"
      ]
     },
     "execution_count": 13,
     "metadata": {},
     "output_type": "execute_result"
    }
   ],
   "source": [
    "model.invoke(\"What is the weather in hyderabad?\")"
   ]
  },
  {
   "cell_type": "markdown",
   "id": "89f6a860",
   "metadata": {},
   "source": [
    "## Part 1: Access to tools"
   ]
  },
  {
   "cell_type": "code",
   "execution_count": 14,
   "id": "931877b8",
   "metadata": {},
   "outputs": [
    {
     "data": {
      "text/plain": [
       "{'query': 'What is langgraph',\n",
       " 'follow_up_questions': None,\n",
       " 'answer': None,\n",
       " 'images': [],\n",
       " 'results': [{'url': 'https://www.datacamp.com/tutorial/langgraph-tutorial',\n",
       "   'title': 'LangGraph Tutorial: What Is LangGraph and How to Use It?',\n",
       "   'content': 'LangGraph is a library within the LangChain ecosystem that provides a framework for defining, coordinating, and executing multiple LLM agents (or chains) in a structured and efficient manner. By managing the flow of data and the sequence of operations, LangGraph allows developers to focus on the high-level logic of their applications rather than the intricacies of agent coordination. Whether you need a chatbot that can handle various types of user requests or a multi-agent system that performs complex tasks, LangGraph provides the tools to build exactly what you need. LangGraph significantly simplifies the development of complex LLM applications by providing a structured framework for managing state and coordinating agent interactions.',\n",
       "   'score': 0.9502313,\n",
       "   'raw_content': None},\n",
       "  {'url': 'https://www.ibm.com/think/topics/langgraph',\n",
       "   'title': 'What is LangGraph? - IBM',\n",
       "   'content': 'LangGraph, created by LangChain, is an open source AI agent framework designed to build, deploy and manage complex generative AI agent workflows. At its core, LangGraph uses the power of graph-based architectures to model and manage the intricate relationships between various components of an AI agent workflow. LangGraph illuminates the processes within an AI workflow, allowing full transparency of the agent’s state. By combining these technologies with a set of APIs and tools, LangGraph provides users with a versatile platform for developing AI solutions and workflows including chatbots, state graphs and other agent-based systems. Nodes: In LangGraph, nodes represent individual components or agents within an AI workflow. LangGraph uses enhanced decision-making by modeling complex relationships between nodes, which means it uses AI agents to analyze their past actions and feedback.',\n",
       "   'score': 0.94401723,\n",
       "   'raw_content': None}],\n",
       " 'response_time': 1.43}"
      ]
     },
     "execution_count": 14,
     "metadata": {},
     "output_type": "execute_result"
    }
   ],
   "source": [
    "# tavily seaarch tool ---> for api go to https://app.tavily.com/home and generate an api key\n",
    "from langchain_tavily import TavilySearch\n",
    "\n",
    "search_tool=TavilySearch(max_results=2)\n",
    "search_tool.invoke(\"What is langgraph\")\n"
   ]
  },
  {
   "cell_type": "code",
   "execution_count": 15,
   "id": "eab20b7b",
   "metadata": {},
   "outputs": [
    {
     "data": {
      "text/plain": [
       "{'query': 'What is the weather in hyderabad?',\n",
       " 'follow_up_questions': None,\n",
       " 'answer': None,\n",
       " 'images': [],\n",
       " 'results': [{'title': 'Weather in Hyderabad',\n",
       "   'url': 'https://www.weatherapi.com/',\n",
       "   'content': \"{'location': {'name': 'Hyderabad', 'region': 'Telangana', 'country': 'India', 'lat': 17.3753, 'lon': 78.4744, 'tz_id': 'Asia/Kolkata', 'localtime_epoch': 1754117728, 'localtime': '2025-08-02 12:25'}, 'current': {'last_updated_epoch': 1754117100, 'last_updated': '2025-08-02 12:15', 'temp_c': 30.1, 'temp_f': 86.2, 'is_day': 1, 'condition': {'text': 'Partly cloudy', 'icon': '//cdn.weatherapi.com/weather/64x64/day/116.png', 'code': 1003}, 'wind_mph': 9.6, 'wind_kph': 15.5, 'wind_degree': 299, 'wind_dir': 'WNW', 'pressure_mb': 1009.0, 'pressure_in': 29.8, 'precip_mm': 0.0, 'precip_in': 0.0, 'humidity': 59, 'cloud': 50, 'feelslike_c': 31.0, 'feelslike_f': 87.9, 'windchill_c': 31.7, 'windchill_f': 89.1, 'heatindex_c': 33.5, 'heatindex_f': 92.4, 'dewpoint_c': 18.6, 'dewpoint_f': 65.6, 'vis_km': 6.0, 'vis_miles': 3.0, 'uv': 11.2, 'gust_mph': 11.1, 'gust_kph': 17.8}}\",\n",
       "   'score': 0.975633,\n",
       "   'raw_content': None},\n",
       "  {'url': 'https://www.indiatoday.in/weather/hyderabad-weather-forecast-today',\n",
       "   'title': 'Hyderabad Weather Today (Saturday, Aug 02, 2025) - India Today',\n",
       "   'content': 'The minimum temperature in Hyderabad today is likely to hover around 26 degrees Celsius, while the maximum temperature might reach 32 degrees Celsius.',\n",
       "   'score': 0.93554133,\n",
       "   'raw_content': None}],\n",
       " 'response_time': 1.12}"
      ]
     },
     "execution_count": 15,
     "metadata": {},
     "output_type": "execute_result"
    }
   ],
   "source": [
    "search_tool.invoke(\"What is the weather in hyderabad?\")"
   ]
  },
  {
   "cell_type": "markdown",
   "id": "58a4e018",
   "metadata": {},
   "source": [
    "## lets create 6 tools"
   ]
  },
  {
   "cell_type": "code",
   "execution_count": 16,
   "id": "9a8f613a",
   "metadata": {},
   "outputs": [],
   "source": [
    "\n",
    "#defining search tool\n",
    "search_tool = TavilySearch(max_results=2)\n",
    "\n",
    "\n",
    "def search_web(user_question):\n",
    "    \"\"\"\n",
    "    This function will search a web search for the user question\n",
    "    Args:\n",
    "        user_question (str): The question to search\n",
    "    Returns:\n",
    "        search_results (list): The search results\n",
    "    \"\"\"\n",
    "    search_results = search_tool.invoke(user_question)[\"results\"]\n",
    "    return search_results\n",
    "\n",
    "#mathematical tool - addition\n",
    "def add_numbers(a,b):\n",
    "    \"\"\"\n",
    "    This function will add two numbers\n",
    "    Args:\n",
    "        a (int): The first number\n",
    "        b (int): The second number\n",
    "    Returns:\n",
    "        result (int): The sum of the two numbers\n",
    "    \"\"\"\n",
    "    return a+b\n",
    "\n",
    "#mathematical tool - subtraction\n",
    "def subtract_numbers(a,b):\n",
    "    \"\"\"\n",
    "    This function will subtract two numbers\n",
    "    Args:\n",
    "        a (int): The first number\n",
    "        b (int): The second number\n",
    "    Returns:\n",
    "        result (int): The difference of the two numbers\n",
    "    \"\"\"\n",
    "    return a-b\n",
    "\n",
    "#mathematical tool - multiplication\n",
    "def multiply_numbers(a,b):\n",
    "    \"\"\"\n",
    "    This function will multiply two numbers\n",
    "    Args:\n",
    "        a (int): The first number\n",
    "        b (int): The second number\n",
    "    Returns:\n",
    "        result (int): The product of the two numbers\n",
    "    \"\"\"\n",
    "    return a*b\n",
    "\n",
    "#mathematical tool - division\n",
    "def divide_numbers(a,b):\n",
    "    \"\"\"\n",
    "    This function will divide two numbers\n",
    "    Args:\n",
    "        a (int): The first number\n",
    "        b (int): The second number\n",
    "    Returns:\n",
    "        result (int): The quotient of the two numbers\n",
    "    \"\"\"\n",
    "    return a/b\n",
    "\n",
    "\n",
    "# tooll to get the current time\n",
    "def get_current_time():\n",
    "    \"\"\"\n",
    "    This function will get the current time\n",
    "    Returns:\n",
    "        result (str): The current time\n",
    "    \"\"\"\n",
    "    return datetime.now().strftime(\"%H:%M:%S\")\n"
   ]
  },
  {
   "cell_type": "code",
   "execution_count": 17,
   "id": "02680dd5",
   "metadata": {},
   "outputs": [],
   "source": [
    "tools_list = [search_web, add_numbers, subtract_numbers, multiply_numbers, divide_numbers, get_current_time]"
   ]
  },
  {
   "cell_type": "code",
   "execution_count": 18,
   "id": "200101e7",
   "metadata": {},
   "outputs": [],
   "source": [
    "#bind the tools with llm\n",
    "llm_with_tool = model.bind_tools(tools_list)"
   ]
  },
  {
   "cell_type": "code",
   "execution_count": 19,
   "id": "8b03131d",
   "metadata": {},
   "outputs": [
    {
     "data": {
      "text/plain": [
       "RunnableBinding(bound=ChatOpenAI(client=<openai.resources.chat.completions.completions.Completions object at 0x10bb1c910>, async_client=<openai.resources.chat.completions.completions.AsyncCompletions object at 0x10bb1cf50>, root_client=<openai.OpenAI object at 0x10bb1c2d0>, root_async_client=<openai.AsyncOpenAI object at 0x10bb1c050>, model_name='gpt-4.1-mini', temperature=0.0, model_kwargs={}, openai_api_key=SecretStr('**********')), kwargs={'tools': [{'type': 'function', 'function': {'name': 'search_web', 'description': 'This function will search a web search for the user question\\nArgs:\\n    user_question (str): The question to search\\nReturns:\\n    search_results (list): The search results', 'parameters': {'properties': {'user_question': {}}, 'required': ['user_question'], 'type': 'object'}}}, {'type': 'function', 'function': {'name': 'add_numbers', 'description': 'This function will add two numbers\\nArgs:\\n    a (int): The first number\\n    b (int): The second number\\nReturns:\\n    result (int): The sum of the two numbers', 'parameters': {'properties': {'a': {}, 'b': {}}, 'required': ['a', 'b'], 'type': 'object'}}}, {'type': 'function', 'function': {'name': 'subtract_numbers', 'description': 'This function will subtract two numbers\\nArgs:\\n    a (int): The first number\\n    b (int): The second number\\nReturns:\\n    result (int): The difference of the two numbers', 'parameters': {'properties': {'a': {}, 'b': {}}, 'required': ['a', 'b'], 'type': 'object'}}}, {'type': 'function', 'function': {'name': 'multiply_numbers', 'description': 'This function will multiply two numbers\\nArgs:\\n    a (int): The first number\\n    b (int): The second number\\nReturns:\\n    result (int): The product of the two numbers', 'parameters': {'properties': {'a': {}, 'b': {}}, 'required': ['a', 'b'], 'type': 'object'}}}, {'type': 'function', 'function': {'name': 'divide_numbers', 'description': 'This function will divide two numbers\\nArgs:\\n    a (int): The first number\\n    b (int): The second number\\nReturns:\\n    result (int): The quotient of the two numbers', 'parameters': {'properties': {'a': {}, 'b': {}}, 'required': ['a', 'b'], 'type': 'object'}}}, {'type': 'function', 'function': {'name': 'get_current_time', 'description': 'This function will get the current time\\nReturns:\\n    result (str): The current time', 'parameters': {'properties': {}, 'type': 'object'}}}]}, config={}, config_factories=[])"
      ]
     },
     "execution_count": 19,
     "metadata": {},
     "output_type": "execute_result"
    }
   ],
   "source": [
    "llm_with_tool"
   ]
  },
  {
   "cell_type": "code",
   "execution_count": 21,
   "id": "309a809f",
   "metadata": {},
   "outputs": [],
   "source": [
    "#defining the nodes \n",
    "def tool_calling_llm(state:State):\n",
    "    return {\"messages\": [llm_with_tool.invoke(state[\"messages\"])]}\n",
    "\n"
   ]
  },
  {
   "cell_type": "code",
   "execution_count": 22,
   "id": "c70ab36c",
   "metadata": {},
   "outputs": [],
   "source": [
    "# define the workflow\n",
    "from langgraph.graph import StateGraph,START,END\n",
    "from langgraph.prebuilt import ToolNode\n",
    "from langgraph.prebuilt import tools_condition\n",
    "\n",
    "workflow = StateGraph(State)\n",
    "\n",
    "workflow.add_node(\"llm_with_tools\", tool_calling_llm)\n",
    "workflow.add_node(\"tools\" , ToolNode(tools_list))\n",
    "\n",
    "workflow.add_edge(START, \"llm_with_tools\")\n",
    "workflow.add_conditional_edges(\n",
    "    \"llm_with_tools\",\n",
    "    tools_condition\n",
    ")\n",
    "workflow.add_edge(\"tools\", END)\n",
    "\n",
    "app = workflow.compile()"
   ]
  },
  {
   "cell_type": "code",
   "execution_count": 23,
   "id": "b41301ce",
   "metadata": {},
   "outputs": [
    {
     "data": {
      "image/png": "[encoded data removed]",
      "text/plain": [
       "<IPython.core.display.Image object>"
      ]
     },
     "metadata": {},
     "output_type": "display_data"
    }
   ],
   "source": [
    "display_graph(app)"
   ]
  },
  {
   "cell_type": "code",
   "execution_count": 24,
   "id": "c4f40ded",
   "metadata": {},
   "outputs": [],
   "source": [
    "response = app.invoke({\"messages\": \"What is the current tariff put by USA on india?\"})"
   ]
  },
  {
   "cell_type": "code",
   "execution_count": 25,
   "id": "dd4e04cc",
   "metadata": {},
   "outputs": [
    {
     "data": {
      "text/plain": [
       "{'messages': [HumanMessage(content='What is the current tariff put by USA on india?', additional_kwargs={}, response_metadata={}, id='472a40dc-c937-477a-9d37-9dcd411116e6'),\n",
       "  AIMessage(content='', additional_kwargs={'tool_calls': [{'id': 'call_YvWYO1lArUJZu10SoFK45Qfa', 'function': {'arguments': '{\"user_question\":\"current tariff put by USA on India\"}', 'name': 'search_web'}, 'type': 'function'}], 'refusal': None}, response_metadata={'token_usage': {'completion_tokens': 21, 'prompt_tokens': 350, 'total_tokens': 371, 'completion_tokens_details': {'accepted_prediction_tokens': 0, 'audio_tokens': 0, 'reasoning_tokens': 0, 'rejected_prediction_tokens': 0}, 'prompt_tokens_details': {'audio_tokens': 0, 'cached_tokens': 0}}, 'model_name': 'gpt-4.1-mini-2025-04-14', 'system_fingerprint': 'fp_658b958c37', 'id': 'chatcmpl-C00gked8eO6C3yy0J5IQ75xNas6Wo', 'service_tier': 'default', 'finish_reason': 'tool_calls', 'logprobs': None}, id='run--5b0d3223-ad56-497d-9c83-27fc1f7785c8-0', tool_calls=[{'name': 'search_web', 'args': {'user_question': 'current tariff put by USA on India'}, 'id': 'call_YvWYO1lArUJZu10SoFK45Qfa', 'type': 'tool_call'}], usage_metadata={'input_tokens': 350, 'output_tokens': 21, 'total_tokens': 371, 'input_token_details': {'audio': 0, 'cache_read': 0}, 'output_token_details': {'audio': 0, 'reasoning': 0}}),\n",
       "  ToolMessage(content='[{\"url\": \"https://apnews.com/article/trump-tariffs-russia-india-9e388a55583e7007149819c52f0fd71b\", \"title\": \"Trump announces 25% tariff on India starting Aug. 1 - AP News\", \"content\": \"WASHINGTON (AP) — The United States will impose a 25% tariff on goods from India, plus an additional import tax because of India\\'s purchasing\", \"score\": 0.76512027, \"raw_content\": null}, {\"url\": \"https://thediplomat.com/2025/08/trumps-tariffs-on-india-imperil-india-us-strategic-relationship/\", \"title\": \"Trump\\'s Tariffs on India Imperil India-US Strategic Relationship\", \"content\": \"In addition to a 25 percent tariff on Indian exports, Trump has announced an “unspecified penalty” on India for buying Russian oil and arms.\", \"score\": 0.6533265, \"raw_content\": null}]', name='search_web', id='1268e947-9f7f-4c51-9bf0-645a7679de3a', tool_call_id='call_YvWYO1lArUJZu10SoFK45Qfa')]}"
      ]
     },
     "execution_count": 25,
     "metadata": {},
     "output_type": "execute_result"
    }
   ],
   "source": [
    "response"
   ]
  },
  {
   "cell_type": "code",
   "execution_count": 26,
   "id": "1aede4c8",
   "metadata": {},
   "outputs": [
    {
     "name": "stdout",
     "output_type": "stream",
     "text": [
      "================================\u001b[1m Human Message \u001b[0m=================================\n",
      "\n",
      "What is the current tariff put by USA on india?\n",
      "==================================\u001b[1m Ai Message \u001b[0m==================================\n",
      "Tool Calls:\n",
      "  search_web (call_YvWYO1lArUJZu10SoFK45Qfa)\n",
      " Call ID: call_YvWYO1lArUJZu10SoFK45Qfa\n",
      "  Args:\n",
      "    user_question: current tariff put by USA on India\n",
      "=================================\u001b[1m Tool Message \u001b[0m=================================\n",
      "Name: search_web\n",
      "\n",
      "[{\"url\": \"https://apnews.com/article/trump-tariffs-russia-india-9e388a55583e7007149819c52f0fd71b\", \"title\": \"Trump announces 25% tariff on India starting Aug. 1 - AP News\", \"content\": \"WASHINGTON (AP) — The United States will impose a 25% tariff on goods from India, plus an additional import tax because of India's purchasing\", \"score\": 0.76512027, \"raw_content\": null}, {\"url\": \"https://thediplomat.com/2025/08/trumps-tariffs-on-india-imperil-india-us-strategic-relationship/\", \"title\": \"Trump's Tariffs on India Imperil India-US Strategic Relationship\", \"content\": \"In addition to a 25 percent tariff on Indian exports, Trump has announced an “unspecified penalty” on India for buying Russian oil and arms.\", \"score\": 0.6533265, \"raw_content\": null}]\n"
     ]
    }
   ],
   "source": [
    "for m in response['messages']:\n",
    "    m.pretty_print()"
   ]
  },
  {
   "cell_type": "code",
   "execution_count": null,
   "id": "82f09611",
   "metadata": {},
   "outputs": [],
   "source": [
    "response=app.invoke({\"messages\":\"What is 5 multiplied by 4\"})\n",
    "for m in response['messages']:\n",
    "    m.pretty_print()"
   ]
  },
  {
   "cell_type": "code",
   "execution_count": null,
   "id": "674ce697",
   "metadata": {},
   "outputs": [],
   "source": [
    "## this is something to note about \n",
    "response=app.invoke({\"messages\":\"What is 5 multiplied by 4 and where is taj mahal\"})\n",
    "for m in response['messages']:\n",
    "    m.pretty_print()"
   ]
  },
  {
   "cell_type": "markdown",
   "id": "fb05d75b",
   "metadata": {},
   "source": [
    "## Part 2: Improving the workflow by passing the tools output back to llm - ReACT agent"
   ]
  },
  {
   "cell_type": "code",
   "execution_count": 27,
   "id": "6c57ea64",
   "metadata": {},
   "outputs": [],
   "source": [
    "# define the workflow\n",
    "from langgraph.graph import StateGraph,START,END\n",
    "from langgraph.prebuilt import ToolNode\n",
    "from langgraph.prebuilt import tools_condition\n",
    "\n",
    "workflow = StateGraph(State)\n",
    "\n",
    "workflow.add_node(\"llm_with_tools\", tool_calling_llm)\n",
    "workflow.add_node(\"tools\" , ToolNode(tools_list))\n",
    "\n",
    "workflow.add_edge(START, \"llm_with_tools\")\n",
    "workflow.add_conditional_edges(\n",
    "    \"llm_with_tools\",\n",
    "    tools_condition\n",
    ")\n",
    "workflow.add_edge(\"tools\", \"llm_with_tools\")\n",
    "\n",
    "app2 = workflow.compile()"
   ]
  },
  {
   "cell_type": "code",
   "execution_count": 28,
   "id": "2eb85231",
   "metadata": {},
   "outputs": [
    {
     "data": {
      "image/png": "[encoded data removed]",
      "text/plain": [
       "<IPython.core.display.Image object>"
      ]
     },
     "metadata": {},
     "output_type": "display_data"
    }
   ],
   "source": [
    "display_graph(app2)"
   ]
  },
  {
   "cell_type": "code",
   "execution_count": 29,
   "id": "7fdf6834",
   "metadata": {},
   "outputs": [
    {
     "name": "stdout",
     "output_type": "stream",
     "text": [
      "================================\u001b[1m Human Message \u001b[0m=================================\n",
      "\n",
      "What is 5 multiplied by 4 and where is taj mahal\n",
      "==================================\u001b[1m Ai Message \u001b[0m==================================\n",
      "Tool Calls:\n",
      "  multiply_numbers (call_0ezfJDkfDQgvYAmb2INCtRZZ)\n",
      " Call ID: call_0ezfJDkfDQgvYAmb2INCtRZZ\n",
      "  Args:\n",
      "    a: 5\n",
      "    b: 4\n",
      "  search_web (call_nlb80dDbtATnVy2S8VvEiEaC)\n",
      " Call ID: call_nlb80dDbtATnVy2S8VvEiEaC\n",
      "  Args:\n",
      "    user_question: Where is Taj Mahal located?\n",
      "=================================\u001b[1m Tool Message \u001b[0m=================================\n",
      "Name: multiply_numbers\n",
      "\n",
      "20\n",
      "=================================\u001b[1m Tool Message \u001b[0m=================================\n",
      "Name: search_web\n",
      "\n",
      "[{\"url\": \"https://whc.unesco.org/en/list/252/\", \"title\": \"Taj Mahal - UNESCO World Heritage Centre\", \"content\": \"It was built by Mughal Emperor Shah Jahan in memory of his wife Mumtaz Mahal with construction starting in 1632 AD and completed in 1648 AD, with the mosque, the guest house and the main gateway on the south, the outer courtyard and its cloisters were added subsequently and completed in 1653 AD. The Taj Mahal is considered to be the greatest architectural achievement in the whole range of Indo-Islamic architecture. Its recognised architectonic beauty has a rhythmic combination of solids and voids, concave and convex and light shadow; such as arches and domes further increases the aesthetic aspect. Criterion (i): Taj Mahal represents the finest architectural and artistic achievement through perfect harmony and excellent craftsmanship in a whole range of Indo-Islamic sepulchral architecture. It is a masterpiece of architectural style in conception, treatment and execution and has unique aesthetic qualities in balance, symmetry and harmonious blending of various elements.\", \"score\": 0.51618147, \"raw_content\": null}, {\"url\": \"https://en.wikipedia.org/wiki/Taj_Mahal\", \"title\": \"Taj Mahal - Wikipedia\", \"content\": \"| Architecture | | Forts and palaces | * Agra Fort * Lahore Fort * Lalbagh Fort * Red Fort * Jahangir Mahal * Sheesh Mahal \\\"Sheesh Mahal (Lahore Fort)\\\") | | --- | | Mosques | * Alamgir Mosque, Aurangabad * Jama Masjid (Delhi) * Chawk Mosque * Badshahi Mosque * Shah Jahan Mosque, Thatta * Sunehri Masjid * Wazir Khan Mosque | | Tombs and mausoleums | * Akbar's Tomb * Bibi Ka Maqbara * Gardens of Babur * Humayun's Tomb * Jahangir's Tomb * Taj Mahal * Tomb of Salim Chishti * Tomb of Aurangzeb * Tomb of Nur Jahan * List of tombs of Mughal Empire | | Others | * Fatehpur Sikri * Shalimar Gardens * Achabal Gardens * Shahi Bridge * _more_ | |\", \"score\": 0.49275014, \"raw_content\": null}]\n",
      "==================================\u001b[1m Ai Message \u001b[0m==================================\n",
      "\n",
      "5 multiplied by 4 is 20.\n",
      "\n",
      "The Taj Mahal is located in Agra, India. It was built by Mughal Emperor Shah Jahan in memory of his wife Mumtaz Mahal. It is considered one of the greatest architectural achievements in Indo-Islamic architecture and is renowned for its beauty, balance, and symmetry.\n"
     ]
    }
   ],
   "source": [
    "response=app2.invoke({\"messages\":\"What is 5 multiplied by 4 and where is taj mahal\"})\n",
    "for m in response['messages']:\n",
    "    m.pretty_print()"
   ]
  },
  {
   "cell_type": "code",
   "execution_count": 30,
   "id": "bfbf4e09",
   "metadata": {},
   "outputs": [
    {
     "data": {
      "text/plain": [
       "{'messages': [HumanMessage(content='What is 5 multiplied by 4 and where is taj mahal', additional_kwargs={}, response_metadata={}, id='65f7cbc5-8350-45b0-a5e5-5d25caa688c5'),\n",
       "  AIMessage(content='', additional_kwargs={'tool_calls': [{'id': 'call_5KDN2PSYTHC55tsKy5tDra0n', 'function': {'arguments': '{\"a\": 5, \"b\": 4}', 'name': 'multiply_numbers'}, 'type': 'function'}, {'id': 'call_n1Tdlhm4ZiTwcfvLMNmtZVDR', 'function': {'arguments': '{\"user_question\": \"Where is Taj Mahal located?\"}', 'name': 'search_web'}, 'type': 'function'}], 'refusal': None}, response_metadata={'token_usage': {'completion_tokens': 54, 'prompt_tokens': 352, 'total_tokens': 406, 'completion_tokens_details': {'accepted_prediction_tokens': 0, 'audio_tokens': 0, 'reasoning_tokens': 0, 'rejected_prediction_tokens': 0}, 'prompt_tokens_details': {'audio_tokens': 0, 'cached_tokens': 0}}, 'model_name': 'gpt-4.1-mini-2025-04-14', 'system_fingerprint': 'fp_658b958c37', 'id': 'chatcmpl-C00nOGT5ad3eNXcp1gfuqNIZost7x', 'service_tier': 'default', 'finish_reason': 'tool_calls', 'logprobs': None}, id='run--3c6b633d-949a-4932-9066-85ad4314d05c-0', tool_calls=[{'name': 'multiply_numbers', 'args': {'a': 5, 'b': 4}, 'id': 'call_5KDN2PSYTHC55tsKy5tDra0n', 'type': 'tool_call'}, {'name': 'search_web', 'args': {'user_question': 'Where is Taj Mahal located?'}, 'id': 'call_n1Tdlhm4ZiTwcfvLMNmtZVDR', 'type': 'tool_call'}], usage_metadata={'input_tokens': 352, 'output_tokens': 54, 'total_tokens': 406, 'input_token_details': {'audio': 0, 'cache_read': 0}, 'output_token_details': {'audio': 0, 'reasoning': 0}}),\n",
       "  ToolMessage(content='20', name='multiply_numbers', id='6df0a959-7203-40fd-99ac-5ed1956cc702', tool_call_id='call_5KDN2PSYTHC55tsKy5tDra0n'),\n",
       "  ToolMessage(content='[{\"url\": \"https://whc.unesco.org/en/list/252/\", \"title\": \"Taj Mahal - UNESCO World Heritage Centre\", \"content\": \"It was built by Mughal Emperor Shah Jahan in memory of his wife Mumtaz Mahal with construction starting in 1632 AD and completed in 1648 AD, with the mosque, the guest house and the main gateway on the south, the outer courtyard and its cloisters were added subsequently and completed in 1653 AD. The Taj Mahal is considered to be the greatest architectural achievement in the whole range of Indo-Islamic architecture. Its recognised architectonic beauty has a rhythmic combination of solids and voids, concave and convex and light shadow; such as arches and domes further increases the aesthetic aspect. Criterion (i): Taj Mahal represents the finest architectural and artistic achievement through perfect harmony and excellent craftsmanship in a whole range of Indo-Islamic sepulchral architecture. It is a masterpiece of architectural style in conception, treatment and execution and has unique aesthetic qualities in balance, symmetry and harmonious blending of various elements.\", \"score\": 0.51618147, \"raw_content\": null}, {\"url\": \"https://en.wikipedia.org/wiki/Taj_Mahal\", \"title\": \"Taj Mahal - Wikipedia\", \"content\": \"| Architecture | | Forts and palaces | * Agra Fort * Lahore Fort * Lalbagh Fort * Red Fort * Jahangir Mahal * Sheesh Mahal \\\\\"Sheesh Mahal (Lahore Fort)\\\\\") | | --- | | Mosques | * Alamgir Mosque, Aurangabad * Jama Masjid (Delhi) * Chawk Mosque * Badshahi Mosque * Shah Jahan Mosque, Thatta * Sunehri Masjid * Wazir Khan Mosque | | Tombs and mausoleums | * Akbar\\'s Tomb * Bibi Ka Maqbara * Gardens of Babur * Humayun\\'s Tomb * Jahangir\\'s Tomb * Taj Mahal * Tomb of Salim Chishti * Tomb of Aurangzeb * Tomb of Nur Jahan * List of tombs of Mughal Empire | | Others | * Fatehpur Sikri * Shalimar Gardens * Achabal Gardens * Shahi Bridge * _more_ | |\", \"score\": 0.49275014, \"raw_content\": null}]', name='search_web', id='b9f7dcd0-e99a-4a84-a984-d034655bcdeb', tool_call_id='call_n1Tdlhm4ZiTwcfvLMNmtZVDR'),\n",
       "  AIMessage(content='5 multiplied by 4 is 20.\\n\\nThe Taj Mahal is located in Agra, India. It was built by Mughal Emperor Shah Jahan in memory of his wife Mumtaz Mahal. The Taj Mahal is renowned for its architectural beauty and is considered a masterpiece of Indo-Islamic architecture.', additional_kwargs={'refusal': None}, response_metadata={'token_usage': {'completion_tokens': 62, 'prompt_tokens': 900, 'total_tokens': 962, 'completion_tokens_details': {'accepted_prediction_tokens': 0, 'audio_tokens': 0, 'reasoning_tokens': 0, 'rejected_prediction_tokens': 0}, 'prompt_tokens_details': {'audio_tokens': 0, 'cached_tokens': 0}}, 'model_name': 'gpt-4.1-mini-2025-04-14', 'system_fingerprint': 'fp_658b958c37', 'id': 'chatcmpl-C00nRmPyG3Zb4gmbm3Nuk1AKT7UD5', 'service_tier': 'default', 'finish_reason': 'stop', 'logprobs': None}, id='run--19c01347-ed61-4cc2-af91-205077cf012b-0', usage_metadata={'input_tokens': 900, 'output_tokens': 62, 'total_tokens': 962, 'input_token_details': {'audio': 0, 'cache_read': 0}, 'output_token_details': {'audio': 0, 'reasoning': 0}})]}"
      ]
     },
     "execution_count": 30,
     "metadata": {},
     "output_type": "execute_result"
    }
   ],
   "source": [
    "app2.invoke({\"messages\":\"What is 5 multiplied by 4 and where is taj mahal\"})"
   ]
  },
  {
   "cell_type": "code",
   "execution_count": null,
   "id": "28d27b7d",
   "metadata": {},
   "outputs": [],
   "source": [
    "app2.invoke({\"messages\":\"What is 5 multiplied by 4 and add 15 to it\"})"
   ]
  },
  {
   "cell_type": "markdown",
   "id": "cbbb3d60",
   "metadata": {},
   "source": [
    "## Part 3: Inbuilt ReACT agent by langgraph"
   ]
  },
  {
   "cell_type": "code",
   "execution_count": 31,
   "id": "4078633e",
   "metadata": {},
   "outputs": [],
   "source": [
    "from langgraph.prebuilt import create_react_agent"
   ]
  },
  {
   "cell_type": "code",
   "execution_count": 32,
   "id": "165812b6",
   "metadata": {},
   "outputs": [],
   "source": [
    "react_agent = create_react_agent(\n",
    "    model=model,\n",
    "    tools=tools_list\n",
    ")\n"
   ]
  },
  {
   "cell_type": "code",
   "execution_count": 33,
   "id": "b67da8d9",
   "metadata": {},
   "outputs": [
    {
     "data": {
      "text/plain": [
       "{'messages': [HumanMessage(content='What is 5 multiplied by 4 and where is taj mahal', additional_kwargs={}, response_metadata={}, id='cccb4e52-f642-4cd9-a246-7dd9758b7a37'),\n",
       "  AIMessage(content='', additional_kwargs={'tool_calls': [{'id': 'call_bzqlnRFhyUvH6Jut6pyFHnya', 'function': {'arguments': '{\"a\": 5, \"b\": 4}', 'name': 'multiply_numbers'}, 'type': 'function'}, {'id': 'call_41zCFQVftEBgOtIv5ZyHSSAm', 'function': {'arguments': '{\"user_question\": \"Where is Taj Mahal located?\"}', 'name': 'search_web'}, 'type': 'function'}], 'refusal': None}, response_metadata={'token_usage': {'completion_tokens': 54, 'prompt_tokens': 352, 'total_tokens': 406, 'completion_tokens_details': {'accepted_prediction_tokens': 0, 'audio_tokens': 0, 'reasoning_tokens': 0, 'rejected_prediction_tokens': 0}, 'prompt_tokens_details': {'audio_tokens': 0, 'cached_tokens': 0}}, 'model_name': 'gpt-4.1-mini-2025-04-14', 'system_fingerprint': 'fp_658b958c37', 'id': 'chatcmpl-C00oYNeD826R857sbKg7kU0k4mwQX', 'service_tier': 'default', 'finish_reason': 'tool_calls', 'logprobs': None}, id='run--a9f76040-79c1-44a2-b662-276b1c7bed75-0', tool_calls=[{'name': 'multiply_numbers', 'args': {'a': 5, 'b': 4}, 'id': 'call_bzqlnRFhyUvH6Jut6pyFHnya', 'type': 'tool_call'}, {'name': 'search_web', 'args': {'user_question': 'Where is Taj Mahal located?'}, 'id': 'call_41zCFQVftEBgOtIv5ZyHSSAm', 'type': 'tool_call'}], usage_metadata={'input_tokens': 352, 'output_tokens': 54, 'total_tokens': 406, 'input_token_details': {'audio': 0, 'cache_read': 0}, 'output_token_details': {'audio': 0, 'reasoning': 0}}),\n",
       "  ToolMessage(content='20', name='multiply_numbers', id='92f8f095-d45a-443e-8d8f-a79a4d196dd9', tool_call_id='call_bzqlnRFhyUvH6Jut6pyFHnya'),\n",
       "  ToolMessage(content='[{\"url\": \"https://whc.unesco.org/en/list/252/\", \"title\": \"Taj Mahal - UNESCO World Heritage Centre\", \"content\": \"It was built by Mughal Emperor Shah Jahan in memory of his wife Mumtaz Mahal with construction starting in 1632 AD and completed in 1648 AD, with the mosque, the guest house and the main gateway on the south, the outer courtyard and its cloisters were added subsequently and completed in 1653 AD. The Taj Mahal is considered to be the greatest architectural achievement in the whole range of Indo-Islamic architecture. Its recognised architectonic beauty has a rhythmic combination of solids and voids, concave and convex and light shadow; such as arches and domes further increases the aesthetic aspect. Criterion (i): Taj Mahal represents the finest architectural and artistic achievement through perfect harmony and excellent craftsmanship in a whole range of Indo-Islamic sepulchral architecture. It is a masterpiece of architectural style in conception, treatment and execution and has unique aesthetic qualities in balance, symmetry and harmonious blending of various elements.\", \"score\": 0.51618147, \"raw_content\": null}, {\"url\": \"https://en.wikipedia.org/wiki/Taj_Mahal\", \"title\": \"Taj Mahal - Wikipedia\", \"content\": \"| Architecture | | Forts and palaces | * Agra Fort * Lahore Fort * Lalbagh Fort * Red Fort * Jahangir Mahal * Sheesh Mahal \\\\\"Sheesh Mahal (Lahore Fort)\\\\\") | | --- | | Mosques | * Alamgir Mosque, Aurangabad * Jama Masjid (Delhi) * Chawk Mosque * Badshahi Mosque * Shah Jahan Mosque, Thatta * Sunehri Masjid * Wazir Khan Mosque | | Tombs and mausoleums | * Akbar\\'s Tomb * Bibi Ka Maqbara * Gardens of Babur * Humayun\\'s Tomb * Jahangir\\'s Tomb * Taj Mahal * Tomb of Salim Chishti * Tomb of Aurangzeb * Tomb of Nur Jahan * List of tombs of Mughal Empire | | Others | * Fatehpur Sikri * Shalimar Gardens * Achabal Gardens * Shahi Bridge * _more_ | |\", \"score\": 0.49275014, \"raw_content\": null}]', name='search_web', id='332548be-f2a5-46eb-88bf-e931c474910d', tool_call_id='call_41zCFQVftEBgOtIv5ZyHSSAm'),\n",
       "  AIMessage(content='5 multiplied by 4 is 20.\\n\\nThe Taj Mahal is located in Agra, India. It was built by Mughal Emperor Shah Jahan in memory of his wife Mumtaz Mahal. It is considered one of the greatest architectural achievements in Indo-Islamic architecture and is renowned for its beauty, balance, and symmetry.', additional_kwargs={'refusal': None}, response_metadata={'token_usage': {'completion_tokens': 68, 'prompt_tokens': 900, 'total_tokens': 968, 'completion_tokens_details': {'accepted_prediction_tokens': 0, 'audio_tokens': 0, 'reasoning_tokens': 0, 'rejected_prediction_tokens': 0}, 'prompt_tokens_details': {'audio_tokens': 0, 'cached_tokens': 0}}, 'model_name': 'gpt-4.1-mini-2025-04-14', 'system_fingerprint': 'fp_658b958c37', 'id': 'chatcmpl-C00ocY8hfYiMIe7a83XdXjEVSOMuq', 'service_tier': 'default', 'finish_reason': 'stop', 'logprobs': None}, id='run--d8f56727-fc29-47bc-a1ec-fadf849964f6-0', usage_metadata={'input_tokens': 900, 'output_tokens': 68, 'total_tokens': 968, 'input_token_details': {'audio': 0, 'cache_read': 0}, 'output_token_details': {'audio': 0, 'reasoning': 0}})]}"
      ]
     },
     "execution_count": 33,
     "metadata": {},
     "output_type": "execute_result"
    }
   ],
   "source": [
    "react_agent.invoke({\"messages\":\"What is 5 multiplied by 4 and where is taj mahal\"})"
   ]
  },
  {
   "cell_type": "markdown",
   "id": "69b0aee6",
   "metadata": {},
   "source": [
    "## Part 4 : Memory in langgraphs"
   ]
  },
  {
   "cell_type": "code",
   "execution_count": 34,
   "id": "0317aec0",
   "metadata": {},
   "outputs": [
    {
     "data": {
      "text/plain": [
       "{'messages': [HumanMessage(content='Hey my name is Javed', additional_kwargs={}, response_metadata={}, id='be747de2-0f65-4175-ab86-d34a3e575e45'),\n",
       "  AIMessage(content='Hello Javed! How can I assist you today?', additional_kwargs={'refusal': None}, response_metadata={'token_usage': {'completion_tokens': 12, 'prompt_tokens': 345, 'total_tokens': 357, 'completion_tokens_details': {'accepted_prediction_tokens': 0, 'audio_tokens': 0, 'reasoning_tokens': 0, 'rejected_prediction_tokens': 0}, 'prompt_tokens_details': {'audio_tokens': 0, 'cached_tokens': 0}}, 'model_name': 'gpt-4.1-mini-2025-04-14', 'system_fingerprint': 'fp_658b958c37', 'id': 'chatcmpl-C00rXTwYSeeHup4rg1hn09AEdGzmC', 'service_tier': 'default', 'finish_reason': 'stop', 'logprobs': None}, id='run--7d51ba25-af98-4654-9f88-508a300293d9-0', usage_metadata={'input_tokens': 345, 'output_tokens': 12, 'total_tokens': 357, 'input_token_details': {'audio': 0, 'cache_read': 0}, 'output_token_details': {'audio': 0, 'reasoning': 0}})]}"
      ]
     },
     "execution_count": 34,
     "metadata": {},
     "output_type": "execute_result"
    }
   ],
   "source": [
    "app2.invoke({\"messages\":\"Hey my name is Javed\"})"
   ]
  },
  {
   "cell_type": "code",
   "execution_count": 35,
   "id": "3e1ed92e",
   "metadata": {},
   "outputs": [
    {
     "data": {
      "text/plain": [
       "{'messages': [HumanMessage(content='Hey what is my name', additional_kwargs={}, response_metadata={}, id='59f49e2f-a2ff-43c1-b841-2ccd80694fed'),\n",
       "  AIMessage(content=\"I don't have access to your personal information, so I don't know your name. If you'd like, you can tell me your name!\", additional_kwargs={'refusal': None}, response_metadata={'token_usage': {'completion_tokens': 28, 'prompt_tokens': 344, 'total_tokens': 372, 'completion_tokens_details': {'accepted_prediction_tokens': 0, 'audio_tokens': 0, 'reasoning_tokens': 0, 'rejected_prediction_tokens': 0}, 'prompt_tokens_details': {'audio_tokens': 0, 'cached_tokens': 0}}, 'model_name': 'gpt-4.1-mini-2025-04-14', 'system_fingerprint': 'fp_658b958c37', 'id': 'chatcmpl-C00re5rt2vb8bycESpaSAd4CYe3iG', 'service_tier': 'default', 'finish_reason': 'stop', 'logprobs': None}, id='run--5d7442c8-c3dc-46af-b4ee-b5436c141ecc-0', usage_metadata={'input_tokens': 344, 'output_tokens': 28, 'total_tokens': 372, 'input_token_details': {'audio': 0, 'cache_read': 0}, 'output_token_details': {'audio': 0, 'reasoning': 0}})]}"
      ]
     },
     "execution_count": 35,
     "metadata": {},
     "output_type": "execute_result"
    }
   ],
   "source": [
    "app2.invoke({\"messages\":\"Hey what is my name\"})"
   ]
  },
  {
   "cell_type": "code",
   "execution_count": 36,
   "id": "8a43375c",
   "metadata": {},
   "outputs": [],
   "source": [
    "# define the workflow\n",
    "from langgraph.graph import StateGraph,START,END\n",
    "from langgraph.prebuilt import ToolNode\n",
    "from langgraph.prebuilt import tools_condition\n",
    "from langgraph.checkpoint.memory import MemorySaver\n",
    "\n",
    "memory = MemorySaver()\n",
    "\n",
    "workflow = StateGraph(State)\n",
    "\n",
    "workflow.add_node(\"llm_with_tools\", tool_calling_llm)\n",
    "workflow.add_node(\"tools\" , ToolNode(tools_list))\n",
    "\n",
    "workflow.add_edge(START, \"llm_with_tools\")\n",
    "workflow.add_conditional_edges(\n",
    "    \"llm_with_tools\",\n",
    "    tools_condition\n",
    ")\n",
    "workflow.add_edge(\"tools\", \"llm_with_tools\")\n",
    "\n",
    "app3 = workflow.compile(checkpointer=memory)"
   ]
  },
  {
   "cell_type": "code",
   "execution_count": 37,
   "id": "26445e59",
   "metadata": {},
   "outputs": [
    {
     "name": "stdout",
     "output_type": "stream",
     "text": [
      "Hello Javed! How can I assist you today?\n"
     ]
    }
   ],
   "source": [
    "config={\"configurable\":{\"thread_id\":\"1\"}}\n",
    "response=app3.invoke({\"messages\":\"Hi my name is Javed\"},config=config)\n",
    "print(response[\"messages\"][-1].content)"
   ]
  },
  {
   "cell_type": "code",
   "execution_count": 38,
   "id": "2a6d8b4f",
   "metadata": {},
   "outputs": [
    {
     "name": "stdout",
     "output_type": "stream",
     "text": [
      "Your name is Javed. How can I help you further?\n"
     ]
    }
   ],
   "source": [
    "response=app3.invoke({\"messages\":\"hey what is my name\"},config=config)\n",
    "print(response[\"messages\"][-1].content)"
   ]
  },
  {
   "cell_type": "markdown",
   "id": "6c826ba6",
   "metadata": {},
   "source": [
    "## Part 5 : Streaming in Langgraph"
   ]
  },
  {
   "cell_type": "markdown",
   "id": "6804d346",
   "metadata": {},
   "source": [
    "Methods: .stream() and astream()\n",
    "\n",
    "These methods are sync and async methods for streaming back results.\n",
    "Additional parameters in streaming modes for graph state\n",
    "\n",
    "values : This streams the full state of the graph after each node is called. \\\n",
    "updates : This streams updates to the state of the graph after each node is called.\n"
   ]
  },
  {
   "cell_type": "code",
   "execution_count": 39,
   "id": "1d3ef1b4",
   "metadata": {},
   "outputs": [
    {
     "name": "stdout",
     "output_type": "stream",
     "text": [
      "{'messages': [HumanMessage(content='Hi,My name is Javed And I like cricket', additional_kwargs={}, response_metadata={}, id='70d1af26-9921-4f6a-a7bd-ab51558b1e5d')]}\n",
      "{'messages': [HumanMessage(content='Hi,My name is Javed And I like cricket', additional_kwargs={}, response_metadata={}, id='70d1af26-9921-4f6a-a7bd-ab51558b1e5d'), AIMessage(content=\"Hi Javed! It's great to meet you. Cricket is a fantastic sport. Do you have a favorite team or player?\", additional_kwargs={'refusal': None}, response_metadata={'token_usage': {'completion_tokens': 26, 'prompt_tokens': 350, 'total_tokens': 376, 'completion_tokens_details': {'accepted_prediction_tokens': 0, 'audio_tokens': 0, 'reasoning_tokens': 0, 'rejected_prediction_tokens': 0}, 'prompt_tokens_details': {'audio_tokens': 0, 'cached_tokens': 0}}, 'model_name': 'gpt-4.1-mini-2025-04-14', 'system_fingerprint': 'fp_658b958c37', 'id': 'chatcmpl-C00xWGALK66E3fKlZciv6VNtvGpOs', 'service_tier': 'default', 'finish_reason': 'stop', 'logprobs': None}, id='run--f86bc762-f6d4-45fb-b7b9-600774b51753-0', usage_metadata={'input_tokens': 350, 'output_tokens': 26, 'total_tokens': 376, 'input_token_details': {'audio': 0, 'cache_read': 0}, 'output_token_details': {'audio': 0, 'reasoning': 0}})]}\n"
     ]
    }
   ],
   "source": [
    "# Create a thread\n",
    "config = {\"configurable\": {\"thread_id\": \"2\"}}\n",
    "\n",
    "for chunk in app3.stream({'messages':\"Hi,My name is Javed And I like cricket\"},config,stream_mode=\"values\"):\n",
    "    print(chunk)"
   ]
  },
  {
   "cell_type": "code",
   "execution_count": 40,
   "id": "3aa737b2",
   "metadata": {},
   "outputs": [
    {
     "name": "stdout",
     "output_type": "stream",
     "text": [
      "{'messages': [HumanMessage(content='Hi,My name is Javed And I like cricket', additional_kwargs={}, response_metadata={}, id='70d1af26-9921-4f6a-a7bd-ab51558b1e5d'), AIMessage(content=\"Hi Javed! It's great to meet you. Cricket is a fantastic sport. Do you have a favorite team or player?\", additional_kwargs={'refusal': None}, response_metadata={'token_usage': {'completion_tokens': 26, 'prompt_tokens': 350, 'total_tokens': 376, 'completion_tokens_details': {'accepted_prediction_tokens': 0, 'audio_tokens': 0, 'reasoning_tokens': 0, 'rejected_prediction_tokens': 0}, 'prompt_tokens_details': {'audio_tokens': 0, 'cached_tokens': 0}}, 'model_name': 'gpt-4.1-mini-2025-04-14', 'system_fingerprint': 'fp_658b958c37', 'id': 'chatcmpl-C00xWGALK66E3fKlZciv6VNtvGpOs', 'service_tier': 'default', 'finish_reason': 'stop', 'logprobs': None}, id='run--f86bc762-f6d4-45fb-b7b9-600774b51753-0', usage_metadata={'input_tokens': 350, 'output_tokens': 26, 'total_tokens': 376, 'input_token_details': {'audio': 0, 'cache_read': 0}, 'output_token_details': {'audio': 0, 'reasoning': 0}}), HumanMessage(content='oh i love movies too', additional_kwargs={}, response_metadata={}, id='36e7bda8-b247-49b5-9a45-23b1a6920912')]}\n",
      "{'messages': [HumanMessage(content='Hi,My name is Javed And I like cricket', additional_kwargs={}, response_metadata={}, id='70d1af26-9921-4f6a-a7bd-ab51558b1e5d'), AIMessage(content=\"Hi Javed! It's great to meet you. Cricket is a fantastic sport. Do you have a favorite team or player?\", additional_kwargs={'refusal': None}, response_metadata={'token_usage': {'completion_tokens': 26, 'prompt_tokens': 350, 'total_tokens': 376, 'completion_tokens_details': {'accepted_prediction_tokens': 0, 'audio_tokens': 0, 'reasoning_tokens': 0, 'rejected_prediction_tokens': 0}, 'prompt_tokens_details': {'audio_tokens': 0, 'cached_tokens': 0}}, 'model_name': 'gpt-4.1-mini-2025-04-14', 'system_fingerprint': 'fp_658b958c37', 'id': 'chatcmpl-C00xWGALK66E3fKlZciv6VNtvGpOs', 'service_tier': 'default', 'finish_reason': 'stop', 'logprobs': None}, id='run--f86bc762-f6d4-45fb-b7b9-600774b51753-0', usage_metadata={'input_tokens': 350, 'output_tokens': 26, 'total_tokens': 376, 'input_token_details': {'audio': 0, 'cache_read': 0}, 'output_token_details': {'audio': 0, 'reasoning': 0}}), HumanMessage(content='oh i love movies too', additional_kwargs={}, response_metadata={}, id='36e7bda8-b247-49b5-9a45-23b1a6920912'), AIMessage(content=\"That's awesome, Javed! Movies are a great way to relax and enjoy some storytelling. What kind of movies do you like? Any favorite genres or films?\", additional_kwargs={'refusal': None}, response_metadata={'token_usage': {'completion_tokens': 33, 'prompt_tokens': 388, 'total_tokens': 421, 'completion_tokens_details': {'accepted_prediction_tokens': 0, 'audio_tokens': 0, 'reasoning_tokens': 0, 'rejected_prediction_tokens': 0}, 'prompt_tokens_details': {'audio_tokens': 0, 'cached_tokens': 0}}, 'model_name': 'gpt-4.1-mini-2025-04-14', 'system_fingerprint': 'fp_6f2eabb9a5', 'id': 'chatcmpl-C00xgdgzZ8ZJ8a2rqNMdI0QeIpkzU', 'service_tier': 'default', 'finish_reason': 'stop', 'logprobs': None}, id='run--93eb96aa-b5dd-445b-bfcf-b20d553bf251-0', usage_metadata={'input_tokens': 388, 'output_tokens': 33, 'total_tokens': 421, 'input_token_details': {'audio': 0, 'cache_read': 0}, 'output_token_details': {'audio': 0, 'reasoning': 0}})]}\n"
     ]
    }
   ],
   "source": [
    "# Create a thread\n",
    "config = {\"configurable\": {\"thread_id\": \"2\"}}\n",
    "\n",
    "for chunk in app3.stream({'messages':\"oh i love movies too\"},config,stream_mode=\"values\"):\n",
    "    print(chunk)"
   ]
  },
  {
   "cell_type": "code",
   "execution_count": 41,
   "id": "ef61f9ee",
   "metadata": {},
   "outputs": [
    {
     "name": "stdout",
     "output_type": "stream",
     "text": [
      "{'llm_with_tools': {'messages': [AIMessage(content=\"Hi Javed! It's great to meet you. Cricket is a fantastic sport. Do you have a favorite team or player? Or maybe you play cricket yourself?\", additional_kwargs={'refusal': None}, response_metadata={'token_usage': {'completion_tokens': 33, 'prompt_tokens': 350, 'total_tokens': 383, 'completion_tokens_details': {'accepted_prediction_tokens': 0, 'audio_tokens': 0, 'reasoning_tokens': 0, 'rejected_prediction_tokens': 0}, 'prompt_tokens_details': {'audio_tokens': 0, 'cached_tokens': 0}}, 'model_name': 'gpt-4.1-mini-2025-04-14', 'system_fingerprint': 'fp_658b958c37', 'id': 'chatcmpl-C00yNoguqncMvk9osTepLEv6rdPKC', 'service_tier': 'default', 'finish_reason': 'stop', 'logprobs': None}, id='run--b9054fa4-c51a-4cd7-9a20-e3fd4b276ee2-0', usage_metadata={'input_tokens': 350, 'output_tokens': 33, 'total_tokens': 383, 'input_token_details': {'audio': 0, 'cache_read': 0}, 'output_token_details': {'audio': 0, 'reasoning': 0}})]}}\n"
     ]
    }
   ],
   "source": [
    "# using updates method : only the recent values are reflected\n",
    "# Create a thread\n",
    "config = {\"configurable\": {\"thread_id\": \"3\"}}\n",
    "\n",
    "for chunk in app3.stream({'messages':\"Hi,My name is Javed And I like cricket\"},config,stream_mode=\"updates\"):\n",
    "    print(chunk)"
   ]
  },
  {
   "cell_type": "code",
   "execution_count": 42,
   "id": "fcc00b68",
   "metadata": {},
   "outputs": [
    {
     "name": "stdout",
     "output_type": "stream",
     "text": [
      "{'llm_with_tools': {'messages': [AIMessage(content=\"That's awesome, Javed! Movies are a great way to relax and enjoy some storytelling. What kind of movies do you like? Any favorite genres or films?\", additional_kwargs={'refusal': None}, response_metadata={'token_usage': {'completion_tokens': 33, 'prompt_tokens': 395, 'total_tokens': 428, 'completion_tokens_details': {'accepted_prediction_tokens': 0, 'audio_tokens': 0, 'reasoning_tokens': 0, 'rejected_prediction_tokens': 0}, 'prompt_tokens_details': {'audio_tokens': 0, 'cached_tokens': 0}}, 'model_name': 'gpt-4.1-mini-2025-04-14', 'system_fingerprint': 'fp_6f2eabb9a5', 'id': 'chatcmpl-C00yZMKqq4kHKcU7mZP3YCTPmwhMA', 'service_tier': 'default', 'finish_reason': 'stop', 'logprobs': None}, id='run--52ba2f73-f8ef-4723-94b3-d24b696bbe16-0', usage_metadata={'input_tokens': 395, 'output_tokens': 33, 'total_tokens': 428, 'input_token_details': {'audio': 0, 'cache_read': 0}, 'output_token_details': {'audio': 0, 'reasoning': 0}})]}}\n"
     ]
    }
   ],
   "source": [
    "config = {\"configurable\": {\"thread_id\": \"3\"}}\n",
    "\n",
    "for chunk in app3.stream({'messages':\"oh i love movies too\"},config,stream_mode=\"updates\"):\n",
    "    print(chunk)"
   ]
  },
  {
   "cell_type": "code",
   "execution_count": 43,
   "id": "ddfd1357",
   "metadata": {},
   "outputs": [
    {
     "name": "stdout",
     "output_type": "stream",
     "text": [
      "{'event': 'on_chain_start', 'data': {'input': {'messages': ['Hi My name is Javed and I like to play cricket']}}, 'name': 'LangGraph', 'tags': [], 'run_id': '5e5d6163-775b-4e8e-a00c-437e9a01e147', 'metadata': {'thread_id': '4'}, 'parent_ids': []}\n",
      "{'event': 'on_chain_start', 'data': {'input': {'messages': [HumanMessage(content='Hi My name is Javed and I like to play cricket', additional_kwargs={}, response_metadata={}, id='99304898-6107-4ca6-93a5-5f70c2a53249')]}}, 'name': 'llm_with_tools', 'tags': ['graph:step:1'], 'run_id': '1a6ce55d-8451-4de7-8b69-c918230ac66f', 'metadata': {'thread_id': '4', 'langgraph_step': 1, 'langgraph_node': 'llm_with_tools', 'langgraph_triggers': ('branch:to:llm_with_tools',), 'langgraph_path': ('__pregel_pull', 'llm_with_tools'), 'langgraph_checkpoint_ns': 'llm_with_tools:27b36710-00bd-9b15-1882-1bb449dc1180'}, 'parent_ids': ['5e5d6163-775b-4e8e-a00c-437e9a01e147']}\n",
      "{'event': 'on_chat_model_start', 'data': {'input': {'messages': [[HumanMessage(content='Hi My name is Javed and I like to play cricket', additional_kwargs={}, response_metadata={}, id='99304898-6107-4ca6-93a5-5f70c2a53249')]]}}, 'name': 'ChatOpenAI', 'tags': ['seq:step:1'], 'run_id': '665716a5-411d-400d-8ed7-88dc1e332f3d', 'metadata': {'thread_id': '4', 'langgraph_step': 1, 'langgraph_node': 'llm_with_tools', 'langgraph_triggers': ('branch:to:llm_with_tools',), 'langgraph_path': ('__pregel_pull', 'llm_with_tools'), 'langgraph_checkpoint_ns': 'llm_with_tools:27b36710-00bd-9b15-1882-1bb449dc1180', 'checkpoint_ns': 'llm_with_tools:27b36710-00bd-9b15-1882-1bb449dc1180', 'ls_provider': 'openai', 'ls_model_name': 'gpt-4.1-mini', 'ls_model_type': 'chat', 'ls_temperature': 0.0}, 'parent_ids': ['5e5d6163-775b-4e8e-a00c-437e9a01e147', '1a6ce55d-8451-4de7-8b69-c918230ac66f']}\n",
      "{'event': 'on_chat_model_stream', 'data': {'chunk': AIMessageChunk(content='', additional_kwargs={}, response_metadata={}, id='run--665716a5-411d-400d-8ed7-88dc1e332f3d')}, 'run_id': '665716a5-411d-400d-8ed7-88dc1e332f3d', 'name': 'ChatOpenAI', 'tags': ['seq:step:1'], 'metadata': {'thread_id': '4', 'langgraph_step': 1, 'langgraph_node': 'llm_with_tools', 'langgraph_triggers': ('branch:to:llm_with_tools',), 'langgraph_path': ('__pregel_pull', 'llm_with_tools'), 'langgraph_checkpoint_ns': 'llm_with_tools:27b36710-00bd-9b15-1882-1bb449dc1180', 'checkpoint_ns': 'llm_with_tools:27b36710-00bd-9b15-1882-1bb449dc1180', 'ls_provider': 'openai', 'ls_model_name': 'gpt-4.1-mini', 'ls_model_type': 'chat', 'ls_temperature': 0.0}, 'parent_ids': ['5e5d6163-775b-4e8e-a00c-437e9a01e147', '1a6ce55d-8451-4de7-8b69-c918230ac66f']}\n",
      "{'event': 'on_chat_model_stream', 'data': {'chunk': AIMessageChunk(content='Hi', additional_kwargs={}, response_metadata={}, id='run--665716a5-411d-400d-8ed7-88dc1e332f3d')}, 'run_id': '665716a5-411d-400d-8ed7-88dc1e332f3d', 'name': 'ChatOpenAI', 'tags': ['seq:step:1'], 'metadata': {'thread_id': '4', 'langgraph_step': 1, 'langgraph_node': 'llm_with_tools', 'langgraph_triggers': ('branch:to:llm_with_tools',), 'langgraph_path': ('__pregel_pull', 'llm_with_tools'), 'langgraph_checkpoint_ns': 'llm_with_tools:27b36710-00bd-9b15-1882-1bb449dc1180', 'checkpoint_ns': 'llm_with_tools:27b36710-00bd-9b15-1882-1bb449dc1180', 'ls_provider': 'openai', 'ls_model_name': 'gpt-4.1-mini', 'ls_model_type': 'chat', 'ls_temperature': 0.0}, 'parent_ids': ['5e5d6163-775b-4e8e-a00c-437e9a01e147', '1a6ce55d-8451-4de7-8b69-c918230ac66f']}\n",
      "{'event': 'on_chat_model_stream', 'data': {'chunk': AIMessageChunk(content=' S', additional_kwargs={}, response_metadata={}, id='run--665716a5-411d-400d-8ed7-88dc1e332f3d')}, 'run_id': '665716a5-411d-400d-8ed7-88dc1e332f3d', 'name': 'ChatOpenAI', 'tags': ['seq:step:1'], 'metadata': {'thread_id': '4', 'langgraph_step': 1, 'langgraph_node': 'llm_with_tools', 'langgraph_triggers': ('branch:to:llm_with_tools',), 'langgraph_path': ('__pregel_pull', 'llm_with_tools'), 'langgraph_checkpoint_ns': 'llm_with_tools:27b36710-00bd-9b15-1882-1bb449dc1180', 'checkpoint_ns': 'llm_with_tools:27b36710-00bd-9b15-1882-1bb449dc1180', 'ls_provider': 'openai', 'ls_model_name': 'gpt-4.1-mini', 'ls_model_type': 'chat', 'ls_temperature': 0.0}, 'parent_ids': ['5e5d6163-775b-4e8e-a00c-437e9a01e147', '1a6ce55d-8451-4de7-8b69-c918230ac66f']}\n",
      "{'event': 'on_chat_model_stream', 'data': {'chunk': AIMessageChunk(content='uman', additional_kwargs={}, response_metadata={}, id='run--665716a5-411d-400d-8ed7-88dc1e332f3d')}, 'run_id': '665716a5-411d-400d-8ed7-88dc1e332f3d', 'name': 'ChatOpenAI', 'tags': ['seq:step:1'], 'metadata': {'thread_id': '4', 'langgraph_step': 1, 'langgraph_node': 'llm_with_tools', 'langgraph_triggers': ('branch:to:llm_with_tools',), 'langgraph_path': ('__pregel_pull', 'llm_with_tools'), 'langgraph_checkpoint_ns': 'llm_with_tools:27b36710-00bd-9b15-1882-1bb449dc1180', 'checkpoint_ns': 'llm_with_tools:27b36710-00bd-9b15-1882-1bb449dc1180', 'ls_provider': 'openai', 'ls_model_name': 'gpt-4.1-mini', 'ls_model_type': 'chat', 'ls_temperature': 0.0}, 'parent_ids': ['5e5d6163-775b-4e8e-a00c-437e9a01e147', '1a6ce55d-8451-4de7-8b69-c918230ac66f']}\n",
      "{'event': 'on_chat_model_stream', 'data': {'chunk': AIMessageChunk(content='!', additional_kwargs={}, response_metadata={}, id='run--665716a5-411d-400d-8ed7-88dc1e332f3d')}, 'run_id': '665716a5-411d-400d-8ed7-88dc1e332f3d', 'name': 'ChatOpenAI', 'tags': ['seq:step:1'], 'metadata': {'thread_id': '4', 'langgraph_step': 1, 'langgraph_node': 'llm_with_tools', 'langgraph_triggers': ('branch:to:llm_with_tools',), 'langgraph_path': ('__pregel_pull', 'llm_with_tools'), 'langgraph_checkpoint_ns': 'llm_with_tools:27b36710-00bd-9b15-1882-1bb449dc1180', 'checkpoint_ns': 'llm_with_tools:27b36710-00bd-9b15-1882-1bb449dc1180', 'ls_provider': 'openai', 'ls_model_name': 'gpt-4.1-mini', 'ls_model_type': 'chat', 'ls_temperature': 0.0}, 'parent_ids': ['5e5d6163-775b-4e8e-a00c-437e9a01e147', '1a6ce55d-8451-4de7-8b69-c918230ac66f']}\n",
      "{'event': 'on_chat_model_stream', 'data': {'chunk': AIMessageChunk(content=\" It's\", additional_kwargs={}, response_metadata={}, id='run--665716a5-411d-400d-8ed7-88dc1e332f3d')}, 'run_id': '665716a5-411d-400d-8ed7-88dc1e332f3d', 'name': 'ChatOpenAI', 'tags': ['seq:step:1'], 'metadata': {'thread_id': '4', 'langgraph_step': 1, 'langgraph_node': 'llm_with_tools', 'langgraph_triggers': ('branch:to:llm_with_tools',), 'langgraph_path': ('__pregel_pull', 'llm_with_tools'), 'langgraph_checkpoint_ns': 'llm_with_tools:27b36710-00bd-9b15-1882-1bb449dc1180', 'checkpoint_ns': 'llm_with_tools:27b36710-00bd-9b15-1882-1bb449dc1180', 'ls_provider': 'openai', 'ls_model_name': 'gpt-4.1-mini', 'ls_model_type': 'chat', 'ls_temperature': 0.0}, 'parent_ids': ['5e5d6163-775b-4e8e-a00c-437e9a01e147', '1a6ce55d-8451-4de7-8b69-c918230ac66f']}\n",
      "{'event': 'on_chat_model_stream', 'data': {'chunk': AIMessageChunk(content=' great', additional_kwargs={}, response_metadata={}, id='run--665716a5-411d-400d-8ed7-88dc1e332f3d')}, 'run_id': '665716a5-411d-400d-8ed7-88dc1e332f3d', 'name': 'ChatOpenAI', 'tags': ['seq:step:1'], 'metadata': {'thread_id': '4', 'langgraph_step': 1, 'langgraph_node': 'llm_with_tools', 'langgraph_triggers': ('branch:to:llm_with_tools',), 'langgraph_path': ('__pregel_pull', 'llm_with_tools'), 'langgraph_checkpoint_ns': 'llm_with_tools:27b36710-00bd-9b15-1882-1bb449dc1180', 'checkpoint_ns': 'llm_with_tools:27b36710-00bd-9b15-1882-1bb449dc1180', 'ls_provider': 'openai', 'ls_model_name': 'gpt-4.1-mini', 'ls_model_type': 'chat', 'ls_temperature': 0.0}, 'parent_ids': ['5e5d6163-775b-4e8e-a00c-437e9a01e147', '1a6ce55d-8451-4de7-8b69-c918230ac66f']}\n",
      "{'event': 'on_chat_model_stream', 'data': {'chunk': AIMessageChunk(content=' to', additional_kwargs={}, response_metadata={}, id='run--665716a5-411d-400d-8ed7-88dc1e332f3d')}, 'run_id': '665716a5-411d-400d-8ed7-88dc1e332f3d', 'name': 'ChatOpenAI', 'tags': ['seq:step:1'], 'metadata': {'thread_id': '4', 'langgraph_step': 1, 'langgraph_node': 'llm_with_tools', 'langgraph_triggers': ('branch:to:llm_with_tools',), 'langgraph_path': ('__pregel_pull', 'llm_with_tools'), 'langgraph_checkpoint_ns': 'llm_with_tools:27b36710-00bd-9b15-1882-1bb449dc1180', 'checkpoint_ns': 'llm_with_tools:27b36710-00bd-9b15-1882-1bb449dc1180', 'ls_provider': 'openai', 'ls_model_name': 'gpt-4.1-mini', 'ls_model_type': 'chat', 'ls_temperature': 0.0}, 'parent_ids': ['5e5d6163-775b-4e8e-a00c-437e9a01e147', '1a6ce55d-8451-4de7-8b69-c918230ac66f']}\n",
      "{'event': 'on_chat_model_stream', 'data': {'chunk': AIMessageChunk(content=' meet', additional_kwargs={}, response_metadata={}, id='run--665716a5-411d-400d-8ed7-88dc1e332f3d')}, 'run_id': '665716a5-411d-400d-8ed7-88dc1e332f3d', 'name': 'ChatOpenAI', 'tags': ['seq:step:1'], 'metadata': {'thread_id': '4', 'langgraph_step': 1, 'langgraph_node': 'llm_with_tools', 'langgraph_triggers': ('branch:to:llm_with_tools',), 'langgraph_path': ('__pregel_pull', 'llm_with_tools'), 'langgraph_checkpoint_ns': 'llm_with_tools:27b36710-00bd-9b15-1882-1bb449dc1180', 'checkpoint_ns': 'llm_with_tools:27b36710-00bd-9b15-1882-1bb449dc1180', 'ls_provider': 'openai', 'ls_model_name': 'gpt-4.1-mini', 'ls_model_type': 'chat', 'ls_temperature': 0.0}, 'parent_ids': ['5e5d6163-775b-4e8e-a00c-437e9a01e147', '1a6ce55d-8451-4de7-8b69-c918230ac66f']}\n",
      "{'event': 'on_chat_model_stream', 'data': {'chunk': AIMessageChunk(content=' you', additional_kwargs={}, response_metadata={}, id='run--665716a5-411d-400d-8ed7-88dc1e332f3d')}, 'run_id': '665716a5-411d-400d-8ed7-88dc1e332f3d', 'name': 'ChatOpenAI', 'tags': ['seq:step:1'], 'metadata': {'thread_id': '4', 'langgraph_step': 1, 'langgraph_node': 'llm_with_tools', 'langgraph_triggers': ('branch:to:llm_with_tools',), 'langgraph_path': ('__pregel_pull', 'llm_with_tools'), 'langgraph_checkpoint_ns': 'llm_with_tools:27b36710-00bd-9b15-1882-1bb449dc1180', 'checkpoint_ns': 'llm_with_tools:27b36710-00bd-9b15-1882-1bb449dc1180', 'ls_provider': 'openai', 'ls_model_name': 'gpt-4.1-mini', 'ls_model_type': 'chat', 'ls_temperature': 0.0}, 'parent_ids': ['5e5d6163-775b-4e8e-a00c-437e9a01e147', '1a6ce55d-8451-4de7-8b69-c918230ac66f']}\n",
      "{'event': 'on_chat_model_stream', 'data': {'chunk': AIMessageChunk(content='.', additional_kwargs={}, response_metadata={}, id='run--665716a5-411d-400d-8ed7-88dc1e332f3d')}, 'run_id': '665716a5-411d-400d-8ed7-88dc1e332f3d', 'name': 'ChatOpenAI', 'tags': ['seq:step:1'], 'metadata': {'thread_id': '4', 'langgraph_step': 1, 'langgraph_node': 'llm_with_tools', 'langgraph_triggers': ('branch:to:llm_with_tools',), 'langgraph_path': ('__pregel_pull', 'llm_with_tools'), 'langgraph_checkpoint_ns': 'llm_with_tools:27b36710-00bd-9b15-1882-1bb449dc1180', 'checkpoint_ns': 'llm_with_tools:27b36710-00bd-9b15-1882-1bb449dc1180', 'ls_provider': 'openai', 'ls_model_name': 'gpt-4.1-mini', 'ls_model_type': 'chat', 'ls_temperature': 0.0}, 'parent_ids': ['5e5d6163-775b-4e8e-a00c-437e9a01e147', '1a6ce55d-8451-4de7-8b69-c918230ac66f']}\n",
      "{'event': 'on_chat_model_stream', 'data': {'chunk': AIMessageChunk(content=' Cricket', additional_kwargs={}, response_metadata={}, id='run--665716a5-411d-400d-8ed7-88dc1e332f3d')}, 'run_id': '665716a5-411d-400d-8ed7-88dc1e332f3d', 'name': 'ChatOpenAI', 'tags': ['seq:step:1'], 'metadata': {'thread_id': '4', 'langgraph_step': 1, 'langgraph_node': 'llm_with_tools', 'langgraph_triggers': ('branch:to:llm_with_tools',), 'langgraph_path': ('__pregel_pull', 'llm_with_tools'), 'langgraph_checkpoint_ns': 'llm_with_tools:27b36710-00bd-9b15-1882-1bb449dc1180', 'checkpoint_ns': 'llm_with_tools:27b36710-00bd-9b15-1882-1bb449dc1180', 'ls_provider': 'openai', 'ls_model_name': 'gpt-4.1-mini', 'ls_model_type': 'chat', 'ls_temperature': 0.0}, 'parent_ids': ['5e5d6163-775b-4e8e-a00c-437e9a01e147', '1a6ce55d-8451-4de7-8b69-c918230ac66f']}\n",
      "{'event': 'on_chat_model_stream', 'data': {'chunk': AIMessageChunk(content=' is', additional_kwargs={}, response_metadata={}, id='run--665716a5-411d-400d-8ed7-88dc1e332f3d')}, 'run_id': '665716a5-411d-400d-8ed7-88dc1e332f3d', 'name': 'ChatOpenAI', 'tags': ['seq:step:1'], 'metadata': {'thread_id': '4', 'langgraph_step': 1, 'langgraph_node': 'llm_with_tools', 'langgraph_triggers': ('branch:to:llm_with_tools',), 'langgraph_path': ('__pregel_pull', 'llm_with_tools'), 'langgraph_checkpoint_ns': 'llm_with_tools:27b36710-00bd-9b15-1882-1bb449dc1180', 'checkpoint_ns': 'llm_with_tools:27b36710-00bd-9b15-1882-1bb449dc1180', 'ls_provider': 'openai', 'ls_model_name': 'gpt-4.1-mini', 'ls_model_type': 'chat', 'ls_temperature': 0.0}, 'parent_ids': ['5e5d6163-775b-4e8e-a00c-437e9a01e147', '1a6ce55d-8451-4de7-8b69-c918230ac66f']}\n",
      "{'event': 'on_chat_model_stream', 'data': {'chunk': AIMessageChunk(content=' a', additional_kwargs={}, response_metadata={}, id='run--665716a5-411d-400d-8ed7-88dc1e332f3d')}, 'run_id': '665716a5-411d-400d-8ed7-88dc1e332f3d', 'name': 'ChatOpenAI', 'tags': ['seq:step:1'], 'metadata': {'thread_id': '4', 'langgraph_step': 1, 'langgraph_node': 'llm_with_tools', 'langgraph_triggers': ('branch:to:llm_with_tools',), 'langgraph_path': ('__pregel_pull', 'llm_with_tools'), 'langgraph_checkpoint_ns': 'llm_with_tools:27b36710-00bd-9b15-1882-1bb449dc1180', 'checkpoint_ns': 'llm_with_tools:27b36710-00bd-9b15-1882-1bb449dc1180', 'ls_provider': 'openai', 'ls_model_name': 'gpt-4.1-mini', 'ls_model_type': 'chat', 'ls_temperature': 0.0}, 'parent_ids': ['5e5d6163-775b-4e8e-a00c-437e9a01e147', '1a6ce55d-8451-4de7-8b69-c918230ac66f']}\n",
      "{'event': 'on_chat_model_stream', 'data': {'chunk': AIMessageChunk(content=' fantastic', additional_kwargs={}, response_metadata={}, id='run--665716a5-411d-400d-8ed7-88dc1e332f3d')}, 'run_id': '665716a5-411d-400d-8ed7-88dc1e332f3d', 'name': 'ChatOpenAI', 'tags': ['seq:step:1'], 'metadata': {'thread_id': '4', 'langgraph_step': 1, 'langgraph_node': 'llm_with_tools', 'langgraph_triggers': ('branch:to:llm_with_tools',), 'langgraph_path': ('__pregel_pull', 'llm_with_tools'), 'langgraph_checkpoint_ns': 'llm_with_tools:27b36710-00bd-9b15-1882-1bb449dc1180', 'checkpoint_ns': 'llm_with_tools:27b36710-00bd-9b15-1882-1bb449dc1180', 'ls_provider': 'openai', 'ls_model_name': 'gpt-4.1-mini', 'ls_model_type': 'chat', 'ls_temperature': 0.0}, 'parent_ids': ['5e5d6163-775b-4e8e-a00c-437e9a01e147', '1a6ce55d-8451-4de7-8b69-c918230ac66f']}\n",
      "{'event': 'on_chat_model_stream', 'data': {'chunk': AIMessageChunk(content=' sport', additional_kwargs={}, response_metadata={}, id='run--665716a5-411d-400d-8ed7-88dc1e332f3d')}, 'run_id': '665716a5-411d-400d-8ed7-88dc1e332f3d', 'name': 'ChatOpenAI', 'tags': ['seq:step:1'], 'metadata': {'thread_id': '4', 'langgraph_step': 1, 'langgraph_node': 'llm_with_tools', 'langgraph_triggers': ('branch:to:llm_with_tools',), 'langgraph_path': ('__pregel_pull', 'llm_with_tools'), 'langgraph_checkpoint_ns': 'llm_with_tools:27b36710-00bd-9b15-1882-1bb449dc1180', 'checkpoint_ns': 'llm_with_tools:27b36710-00bd-9b15-1882-1bb449dc1180', 'ls_provider': 'openai', 'ls_model_name': 'gpt-4.1-mini', 'ls_model_type': 'chat', 'ls_temperature': 0.0}, 'parent_ids': ['5e5d6163-775b-4e8e-a00c-437e9a01e147', '1a6ce55d-8451-4de7-8b69-c918230ac66f']}\n",
      "{'event': 'on_chat_model_stream', 'data': {'chunk': AIMessageChunk(content='.', additional_kwargs={}, response_metadata={}, id='run--665716a5-411d-400d-8ed7-88dc1e332f3d')}, 'run_id': '665716a5-411d-400d-8ed7-88dc1e332f3d', 'name': 'ChatOpenAI', 'tags': ['seq:step:1'], 'metadata': {'thread_id': '4', 'langgraph_step': 1, 'langgraph_node': 'llm_with_tools', 'langgraph_triggers': ('branch:to:llm_with_tools',), 'langgraph_path': ('__pregel_pull', 'llm_with_tools'), 'langgraph_checkpoint_ns': 'llm_with_tools:27b36710-00bd-9b15-1882-1bb449dc1180', 'checkpoint_ns': 'llm_with_tools:27b36710-00bd-9b15-1882-1bb449dc1180', 'ls_provider': 'openai', 'ls_model_name': 'gpt-4.1-mini', 'ls_model_type': 'chat', 'ls_temperature': 0.0}, 'parent_ids': ['5e5d6163-775b-4e8e-a00c-437e9a01e147', '1a6ce55d-8451-4de7-8b69-c918230ac66f']}\n",
      "{'event': 'on_chat_model_stream', 'data': {'chunk': AIMessageChunk(content=' Do', additional_kwargs={}, response_metadata={}, id='run--665716a5-411d-400d-8ed7-88dc1e332f3d')}, 'run_id': '665716a5-411d-400d-8ed7-88dc1e332f3d', 'name': 'ChatOpenAI', 'tags': ['seq:step:1'], 'metadata': {'thread_id': '4', 'langgraph_step': 1, 'langgraph_node': 'llm_with_tools', 'langgraph_triggers': ('branch:to:llm_with_tools',), 'langgraph_path': ('__pregel_pull', 'llm_with_tools'), 'langgraph_checkpoint_ns': 'llm_with_tools:27b36710-00bd-9b15-1882-1bb449dc1180', 'checkpoint_ns': 'llm_with_tools:27b36710-00bd-9b15-1882-1bb449dc1180', 'ls_provider': 'openai', 'ls_model_name': 'gpt-4.1-mini', 'ls_model_type': 'chat', 'ls_temperature': 0.0}, 'parent_ids': ['5e5d6163-775b-4e8e-a00c-437e9a01e147', '1a6ce55d-8451-4de7-8b69-c918230ac66f']}\n",
      "{'event': 'on_chat_model_stream', 'data': {'chunk': AIMessageChunk(content=' you', additional_kwargs={}, response_metadata={}, id='run--665716a5-411d-400d-8ed7-88dc1e332f3d')}, 'run_id': '665716a5-411d-400d-8ed7-88dc1e332f3d', 'name': 'ChatOpenAI', 'tags': ['seq:step:1'], 'metadata': {'thread_id': '4', 'langgraph_step': 1, 'langgraph_node': 'llm_with_tools', 'langgraph_triggers': ('branch:to:llm_with_tools',), 'langgraph_path': ('__pregel_pull', 'llm_with_tools'), 'langgraph_checkpoint_ns': 'llm_with_tools:27b36710-00bd-9b15-1882-1bb449dc1180', 'checkpoint_ns': 'llm_with_tools:27b36710-00bd-9b15-1882-1bb449dc1180', 'ls_provider': 'openai', 'ls_model_name': 'gpt-4.1-mini', 'ls_model_type': 'chat', 'ls_temperature': 0.0}, 'parent_ids': ['5e5d6163-775b-4e8e-a00c-437e9a01e147', '1a6ce55d-8451-4de7-8b69-c918230ac66f']}\n",
      "{'event': 'on_chat_model_stream', 'data': {'chunk': AIMessageChunk(content=' have', additional_kwargs={}, response_metadata={}, id='run--665716a5-411d-400d-8ed7-88dc1e332f3d')}, 'run_id': '665716a5-411d-400d-8ed7-88dc1e332f3d', 'name': 'ChatOpenAI', 'tags': ['seq:step:1'], 'metadata': {'thread_id': '4', 'langgraph_step': 1, 'langgraph_node': 'llm_with_tools', 'langgraph_triggers': ('branch:to:llm_with_tools',), 'langgraph_path': ('__pregel_pull', 'llm_with_tools'), 'langgraph_checkpoint_ns': 'llm_with_tools:27b36710-00bd-9b15-1882-1bb449dc1180', 'checkpoint_ns': 'llm_with_tools:27b36710-00bd-9b15-1882-1bb449dc1180', 'ls_provider': 'openai', 'ls_model_name': 'gpt-4.1-mini', 'ls_model_type': 'chat', 'ls_temperature': 0.0}, 'parent_ids': ['5e5d6163-775b-4e8e-a00c-437e9a01e147', '1a6ce55d-8451-4de7-8b69-c918230ac66f']}\n",
      "{'event': 'on_chat_model_stream', 'data': {'chunk': AIMessageChunk(content=' a', additional_kwargs={}, response_metadata={}, id='run--665716a5-411d-400d-8ed7-88dc1e332f3d')}, 'run_id': '665716a5-411d-400d-8ed7-88dc1e332f3d', 'name': 'ChatOpenAI', 'tags': ['seq:step:1'], 'metadata': {'thread_id': '4', 'langgraph_step': 1, 'langgraph_node': 'llm_with_tools', 'langgraph_triggers': ('branch:to:llm_with_tools',), 'langgraph_path': ('__pregel_pull', 'llm_with_tools'), 'langgraph_checkpoint_ns': 'llm_with_tools:27b36710-00bd-9b15-1882-1bb449dc1180', 'checkpoint_ns': 'llm_with_tools:27b36710-00bd-9b15-1882-1bb449dc1180', 'ls_provider': 'openai', 'ls_model_name': 'gpt-4.1-mini', 'ls_model_type': 'chat', 'ls_temperature': 0.0}, 'parent_ids': ['5e5d6163-775b-4e8e-a00c-437e9a01e147', '1a6ce55d-8451-4de7-8b69-c918230ac66f']}\n",
      "{'event': 'on_chat_model_stream', 'data': {'chunk': AIMessageChunk(content=' favorite', additional_kwargs={}, response_metadata={}, id='run--665716a5-411d-400d-8ed7-88dc1e332f3d')}, 'run_id': '665716a5-411d-400d-8ed7-88dc1e332f3d', 'name': 'ChatOpenAI', 'tags': ['seq:step:1'], 'metadata': {'thread_id': '4', 'langgraph_step': 1, 'langgraph_node': 'llm_with_tools', 'langgraph_triggers': ('branch:to:llm_with_tools',), 'langgraph_path': ('__pregel_pull', 'llm_with_tools'), 'langgraph_checkpoint_ns': 'llm_with_tools:27b36710-00bd-9b15-1882-1bb449dc1180', 'checkpoint_ns': 'llm_with_tools:27b36710-00bd-9b15-1882-1bb449dc1180', 'ls_provider': 'openai', 'ls_model_name': 'gpt-4.1-mini', 'ls_model_type': 'chat', 'ls_temperature': 0.0}, 'parent_ids': ['5e5d6163-775b-4e8e-a00c-437e9a01e147', '1a6ce55d-8451-4de7-8b69-c918230ac66f']}\n",
      "{'event': 'on_chat_model_stream', 'data': {'chunk': AIMessageChunk(content=' team', additional_kwargs={}, response_metadata={}, id='run--665716a5-411d-400d-8ed7-88dc1e332f3d')}, 'run_id': '665716a5-411d-400d-8ed7-88dc1e332f3d', 'name': 'ChatOpenAI', 'tags': ['seq:step:1'], 'metadata': {'thread_id': '4', 'langgraph_step': 1, 'langgraph_node': 'llm_with_tools', 'langgraph_triggers': ('branch:to:llm_with_tools',), 'langgraph_path': ('__pregel_pull', 'llm_with_tools'), 'langgraph_checkpoint_ns': 'llm_with_tools:27b36710-00bd-9b15-1882-1bb449dc1180', 'checkpoint_ns': 'llm_with_tools:27b36710-00bd-9b15-1882-1bb449dc1180', 'ls_provider': 'openai', 'ls_model_name': 'gpt-4.1-mini', 'ls_model_type': 'chat', 'ls_temperature': 0.0}, 'parent_ids': ['5e5d6163-775b-4e8e-a00c-437e9a01e147', '1a6ce55d-8451-4de7-8b69-c918230ac66f']}\n",
      "{'event': 'on_chat_model_stream', 'data': {'chunk': AIMessageChunk(content=' or', additional_kwargs={}, response_metadata={}, id='run--665716a5-411d-400d-8ed7-88dc1e332f3d')}, 'run_id': '665716a5-411d-400d-8ed7-88dc1e332f3d', 'name': 'ChatOpenAI', 'tags': ['seq:step:1'], 'metadata': {'thread_id': '4', 'langgraph_step': 1, 'langgraph_node': 'llm_with_tools', 'langgraph_triggers': ('branch:to:llm_with_tools',), 'langgraph_path': ('__pregel_pull', 'llm_with_tools'), 'langgraph_checkpoint_ns': 'llm_with_tools:27b36710-00bd-9b15-1882-1bb449dc1180', 'checkpoint_ns': 'llm_with_tools:27b36710-00bd-9b15-1882-1bb449dc1180', 'ls_provider': 'openai', 'ls_model_name': 'gpt-4.1-mini', 'ls_model_type': 'chat', 'ls_temperature': 0.0}, 'parent_ids': ['5e5d6163-775b-4e8e-a00c-437e9a01e147', '1a6ce55d-8451-4de7-8b69-c918230ac66f']}\n",
      "{'event': 'on_chat_model_stream', 'data': {'chunk': AIMessageChunk(content=' player', additional_kwargs={}, response_metadata={}, id='run--665716a5-411d-400d-8ed7-88dc1e332f3d')}, 'run_id': '665716a5-411d-400d-8ed7-88dc1e332f3d', 'name': 'ChatOpenAI', 'tags': ['seq:step:1'], 'metadata': {'thread_id': '4', 'langgraph_step': 1, 'langgraph_node': 'llm_with_tools', 'langgraph_triggers': ('branch:to:llm_with_tools',), 'langgraph_path': ('__pregel_pull', 'llm_with_tools'), 'langgraph_checkpoint_ns': 'llm_with_tools:27b36710-00bd-9b15-1882-1bb449dc1180', 'checkpoint_ns': 'llm_with_tools:27b36710-00bd-9b15-1882-1bb449dc1180', 'ls_provider': 'openai', 'ls_model_name': 'gpt-4.1-mini', 'ls_model_type': 'chat', 'ls_temperature': 0.0}, 'parent_ids': ['5e5d6163-775b-4e8e-a00c-437e9a01e147', '1a6ce55d-8451-4de7-8b69-c918230ac66f']}\n",
      "{'event': 'on_chat_model_stream', 'data': {'chunk': AIMessageChunk(content='?', additional_kwargs={}, response_metadata={}, id='run--665716a5-411d-400d-8ed7-88dc1e332f3d')}, 'run_id': '665716a5-411d-400d-8ed7-88dc1e332f3d', 'name': 'ChatOpenAI', 'tags': ['seq:step:1'], 'metadata': {'thread_id': '4', 'langgraph_step': 1, 'langgraph_node': 'llm_with_tools', 'langgraph_triggers': ('branch:to:llm_with_tools',), 'langgraph_path': ('__pregel_pull', 'llm_with_tools'), 'langgraph_checkpoint_ns': 'llm_with_tools:27b36710-00bd-9b15-1882-1bb449dc1180', 'checkpoint_ns': 'llm_with_tools:27b36710-00bd-9b15-1882-1bb449dc1180', 'ls_provider': 'openai', 'ls_model_name': 'gpt-4.1-mini', 'ls_model_type': 'chat', 'ls_temperature': 0.0}, 'parent_ids': ['5e5d6163-775b-4e8e-a00c-437e9a01e147', '1a6ce55d-8451-4de7-8b69-c918230ac66f']}\n",
      "{'event': 'on_chat_model_stream', 'data': {'chunk': AIMessageChunk(content=' Or', additional_kwargs={}, response_metadata={}, id='run--665716a5-411d-400d-8ed7-88dc1e332f3d')}, 'run_id': '665716a5-411d-400d-8ed7-88dc1e332f3d', 'name': 'ChatOpenAI', 'tags': ['seq:step:1'], 'metadata': {'thread_id': '4', 'langgraph_step': 1, 'langgraph_node': 'llm_with_tools', 'langgraph_triggers': ('branch:to:llm_with_tools',), 'langgraph_path': ('__pregel_pull', 'llm_with_tools'), 'langgraph_checkpoint_ns': 'llm_with_tools:27b36710-00bd-9b15-1882-1bb449dc1180', 'checkpoint_ns': 'llm_with_tools:27b36710-00bd-9b15-1882-1bb449dc1180', 'ls_provider': 'openai', 'ls_model_name': 'gpt-4.1-mini', 'ls_model_type': 'chat', 'ls_temperature': 0.0}, 'parent_ids': ['5e5d6163-775b-4e8e-a00c-437e9a01e147', '1a6ce55d-8451-4de7-8b69-c918230ac66f']}\n",
      "{'event': 'on_chat_model_stream', 'data': {'chunk': AIMessageChunk(content=' maybe', additional_kwargs={}, response_metadata={}, id='run--665716a5-411d-400d-8ed7-88dc1e332f3d')}, 'run_id': '665716a5-411d-400d-8ed7-88dc1e332f3d', 'name': 'ChatOpenAI', 'tags': ['seq:step:1'], 'metadata': {'thread_id': '4', 'langgraph_step': 1, 'langgraph_node': 'llm_with_tools', 'langgraph_triggers': ('branch:to:llm_with_tools',), 'langgraph_path': ('__pregel_pull', 'llm_with_tools'), 'langgraph_checkpoint_ns': 'llm_with_tools:27b36710-00bd-9b15-1882-1bb449dc1180', 'checkpoint_ns': 'llm_with_tools:27b36710-00bd-9b15-1882-1bb449dc1180', 'ls_provider': 'openai', 'ls_model_name': 'gpt-4.1-mini', 'ls_model_type': 'chat', 'ls_temperature': 0.0}, 'parent_ids': ['5e5d6163-775b-4e8e-a00c-437e9a01e147', '1a6ce55d-8451-4de7-8b69-c918230ac66f']}\n",
      "{'event': 'on_chat_model_stream', 'data': {'chunk': AIMessageChunk(content=' you', additional_kwargs={}, response_metadata={}, id='run--665716a5-411d-400d-8ed7-88dc1e332f3d')}, 'run_id': '665716a5-411d-400d-8ed7-88dc1e332f3d', 'name': 'ChatOpenAI', 'tags': ['seq:step:1'], 'metadata': {'thread_id': '4', 'langgraph_step': 1, 'langgraph_node': 'llm_with_tools', 'langgraph_triggers': ('branch:to:llm_with_tools',), 'langgraph_path': ('__pregel_pull', 'llm_with_tools'), 'langgraph_checkpoint_ns': 'llm_with_tools:27b36710-00bd-9b15-1882-1bb449dc1180', 'checkpoint_ns': 'llm_with_tools:27b36710-00bd-9b15-1882-1bb449dc1180', 'ls_provider': 'openai', 'ls_model_name': 'gpt-4.1-mini', 'ls_model_type': 'chat', 'ls_temperature': 0.0}, 'parent_ids': ['5e5d6163-775b-4e8e-a00c-437e9a01e147', '1a6ce55d-8451-4de7-8b69-c918230ac66f']}\n",
      "{'event': 'on_chat_model_stream', 'data': {'chunk': AIMessageChunk(content=' like', additional_kwargs={}, response_metadata={}, id='run--665716a5-411d-400d-8ed7-88dc1e332f3d')}, 'run_id': '665716a5-411d-400d-8ed7-88dc1e332f3d', 'name': 'ChatOpenAI', 'tags': ['seq:step:1'], 'metadata': {'thread_id': '4', 'langgraph_step': 1, 'langgraph_node': 'llm_with_tools', 'langgraph_triggers': ('branch:to:llm_with_tools',), 'langgraph_path': ('__pregel_pull', 'llm_with_tools'), 'langgraph_checkpoint_ns': 'llm_with_tools:27b36710-00bd-9b15-1882-1bb449dc1180', 'checkpoint_ns': 'llm_with_tools:27b36710-00bd-9b15-1882-1bb449dc1180', 'ls_provider': 'openai', 'ls_model_name': 'gpt-4.1-mini', 'ls_model_type': 'chat', 'ls_temperature': 0.0}, 'parent_ids': ['5e5d6163-775b-4e8e-a00c-437e9a01e147', '1a6ce55d-8451-4de7-8b69-c918230ac66f']}\n",
      "{'event': 'on_chat_model_stream', 'data': {'chunk': AIMessageChunk(content=' a', additional_kwargs={}, response_metadata={}, id='run--665716a5-411d-400d-8ed7-88dc1e332f3d')}, 'run_id': '665716a5-411d-400d-8ed7-88dc1e332f3d', 'name': 'ChatOpenAI', 'tags': ['seq:step:1'], 'metadata': {'thread_id': '4', 'langgraph_step': 1, 'langgraph_node': 'llm_with_tools', 'langgraph_triggers': ('branch:to:llm_with_tools',), 'langgraph_path': ('__pregel_pull', 'llm_with_tools'), 'langgraph_checkpoint_ns': 'llm_with_tools:27b36710-00bd-9b15-1882-1bb449dc1180', 'checkpoint_ns': 'llm_with_tools:27b36710-00bd-9b15-1882-1bb449dc1180', 'ls_provider': 'openai', 'ls_model_name': 'gpt-4.1-mini', 'ls_model_type': 'chat', 'ls_temperature': 0.0}, 'parent_ids': ['5e5d6163-775b-4e8e-a00c-437e9a01e147', '1a6ce55d-8451-4de7-8b69-c918230ac66f']}\n",
      "{'event': 'on_chat_model_stream', 'data': {'chunk': AIMessageChunk(content=' particular', additional_kwargs={}, response_metadata={}, id='run--665716a5-411d-400d-8ed7-88dc1e332f3d')}, 'run_id': '665716a5-411d-400d-8ed7-88dc1e332f3d', 'name': 'ChatOpenAI', 'tags': ['seq:step:1'], 'metadata': {'thread_id': '4', 'langgraph_step': 1, 'langgraph_node': 'llm_with_tools', 'langgraph_triggers': ('branch:to:llm_with_tools',), 'langgraph_path': ('__pregel_pull', 'llm_with_tools'), 'langgraph_checkpoint_ns': 'llm_with_tools:27b36710-00bd-9b15-1882-1bb449dc1180', 'checkpoint_ns': 'llm_with_tools:27b36710-00bd-9b15-1882-1bb449dc1180', 'ls_provider': 'openai', 'ls_model_name': 'gpt-4.1-mini', 'ls_model_type': 'chat', 'ls_temperature': 0.0}, 'parent_ids': ['5e5d6163-775b-4e8e-a00c-437e9a01e147', '1a6ce55d-8451-4de7-8b69-c918230ac66f']}\n",
      "{'event': 'on_chat_model_stream', 'data': {'chunk': AIMessageChunk(content=' format', additional_kwargs={}, response_metadata={}, id='run--665716a5-411d-400d-8ed7-88dc1e332f3d')}, 'run_id': '665716a5-411d-400d-8ed7-88dc1e332f3d', 'name': 'ChatOpenAI', 'tags': ['seq:step:1'], 'metadata': {'thread_id': '4', 'langgraph_step': 1, 'langgraph_node': 'llm_with_tools', 'langgraph_triggers': ('branch:to:llm_with_tools',), 'langgraph_path': ('__pregel_pull', 'llm_with_tools'), 'langgraph_checkpoint_ns': 'llm_with_tools:27b36710-00bd-9b15-1882-1bb449dc1180', 'checkpoint_ns': 'llm_with_tools:27b36710-00bd-9b15-1882-1bb449dc1180', 'ls_provider': 'openai', 'ls_model_name': 'gpt-4.1-mini', 'ls_model_type': 'chat', 'ls_temperature': 0.0}, 'parent_ids': ['5e5d6163-775b-4e8e-a00c-437e9a01e147', '1a6ce55d-8451-4de7-8b69-c918230ac66f']}\n",
      "{'event': 'on_chat_model_stream', 'data': {'chunk': AIMessageChunk(content=' of', additional_kwargs={}, response_metadata={}, id='run--665716a5-411d-400d-8ed7-88dc1e332f3d')}, 'run_id': '665716a5-411d-400d-8ed7-88dc1e332f3d', 'name': 'ChatOpenAI', 'tags': ['seq:step:1'], 'metadata': {'thread_id': '4', 'langgraph_step': 1, 'langgraph_node': 'llm_with_tools', 'langgraph_triggers': ('branch:to:llm_with_tools',), 'langgraph_path': ('__pregel_pull', 'llm_with_tools'), 'langgraph_checkpoint_ns': 'llm_with_tools:27b36710-00bd-9b15-1882-1bb449dc1180', 'checkpoint_ns': 'llm_with_tools:27b36710-00bd-9b15-1882-1bb449dc1180', 'ls_provider': 'openai', 'ls_model_name': 'gpt-4.1-mini', 'ls_model_type': 'chat', 'ls_temperature': 0.0}, 'parent_ids': ['5e5d6163-775b-4e8e-a00c-437e9a01e147', '1a6ce55d-8451-4de7-8b69-c918230ac66f']}\n",
      "{'event': 'on_chat_model_stream', 'data': {'chunk': AIMessageChunk(content=' the', additional_kwargs={}, response_metadata={}, id='run--665716a5-411d-400d-8ed7-88dc1e332f3d')}, 'run_id': '665716a5-411d-400d-8ed7-88dc1e332f3d', 'name': 'ChatOpenAI', 'tags': ['seq:step:1'], 'metadata': {'thread_id': '4', 'langgraph_step': 1, 'langgraph_node': 'llm_with_tools', 'langgraph_triggers': ('branch:to:llm_with_tools',), 'langgraph_path': ('__pregel_pull', 'llm_with_tools'), 'langgraph_checkpoint_ns': 'llm_with_tools:27b36710-00bd-9b15-1882-1bb449dc1180', 'checkpoint_ns': 'llm_with_tools:27b36710-00bd-9b15-1882-1bb449dc1180', 'ls_provider': 'openai', 'ls_model_name': 'gpt-4.1-mini', 'ls_model_type': 'chat', 'ls_temperature': 0.0}, 'parent_ids': ['5e5d6163-775b-4e8e-a00c-437e9a01e147', '1a6ce55d-8451-4de7-8b69-c918230ac66f']}\n",
      "{'event': 'on_chat_model_stream', 'data': {'chunk': AIMessageChunk(content=' game', additional_kwargs={}, response_metadata={}, id='run--665716a5-411d-400d-8ed7-88dc1e332f3d')}, 'run_id': '665716a5-411d-400d-8ed7-88dc1e332f3d', 'name': 'ChatOpenAI', 'tags': ['seq:step:1'], 'metadata': {'thread_id': '4', 'langgraph_step': 1, 'langgraph_node': 'llm_with_tools', 'langgraph_triggers': ('branch:to:llm_with_tools',), 'langgraph_path': ('__pregel_pull', 'llm_with_tools'), 'langgraph_checkpoint_ns': 'llm_with_tools:27b36710-00bd-9b15-1882-1bb449dc1180', 'checkpoint_ns': 'llm_with_tools:27b36710-00bd-9b15-1882-1bb449dc1180', 'ls_provider': 'openai', 'ls_model_name': 'gpt-4.1-mini', 'ls_model_type': 'chat', 'ls_temperature': 0.0}, 'parent_ids': ['5e5d6163-775b-4e8e-a00c-437e9a01e147', '1a6ce55d-8451-4de7-8b69-c918230ac66f']}\n",
      "{'event': 'on_chat_model_stream', 'data': {'chunk': AIMessageChunk(content=',', additional_kwargs={}, response_metadata={}, id='run--665716a5-411d-400d-8ed7-88dc1e332f3d')}, 'run_id': '665716a5-411d-400d-8ed7-88dc1e332f3d', 'name': 'ChatOpenAI', 'tags': ['seq:step:1'], 'metadata': {'thread_id': '4', 'langgraph_step': 1, 'langgraph_node': 'llm_with_tools', 'langgraph_triggers': ('branch:to:llm_with_tools',), 'langgraph_path': ('__pregel_pull', 'llm_with_tools'), 'langgraph_checkpoint_ns': 'llm_with_tools:27b36710-00bd-9b15-1882-1bb449dc1180', 'checkpoint_ns': 'llm_with_tools:27b36710-00bd-9b15-1882-1bb449dc1180', 'ls_provider': 'openai', 'ls_model_name': 'gpt-4.1-mini', 'ls_model_type': 'chat', 'ls_temperature': 0.0}, 'parent_ids': ['5e5d6163-775b-4e8e-a00c-437e9a01e147', '1a6ce55d-8451-4de7-8b69-c918230ac66f']}\n",
      "{'event': 'on_chat_model_stream', 'data': {'chunk': AIMessageChunk(content=' like', additional_kwargs={}, response_metadata={}, id='run--665716a5-411d-400d-8ed7-88dc1e332f3d')}, 'run_id': '665716a5-411d-400d-8ed7-88dc1e332f3d', 'name': 'ChatOpenAI', 'tags': ['seq:step:1'], 'metadata': {'thread_id': '4', 'langgraph_step': 1, 'langgraph_node': 'llm_with_tools', 'langgraph_triggers': ('branch:to:llm_with_tools',), 'langgraph_path': ('__pregel_pull', 'llm_with_tools'), 'langgraph_checkpoint_ns': 'llm_with_tools:27b36710-00bd-9b15-1882-1bb449dc1180', 'checkpoint_ns': 'llm_with_tools:27b36710-00bd-9b15-1882-1bb449dc1180', 'ls_provider': 'openai', 'ls_model_name': 'gpt-4.1-mini', 'ls_model_type': 'chat', 'ls_temperature': 0.0}, 'parent_ids': ['5e5d6163-775b-4e8e-a00c-437e9a01e147', '1a6ce55d-8451-4de7-8b69-c918230ac66f']}\n",
      "{'event': 'on_chat_model_stream', 'data': {'chunk': AIMessageChunk(content=' Test', additional_kwargs={}, response_metadata={}, id='run--665716a5-411d-400d-8ed7-88dc1e332f3d')}, 'run_id': '665716a5-411d-400d-8ed7-88dc1e332f3d', 'name': 'ChatOpenAI', 'tags': ['seq:step:1'], 'metadata': {'thread_id': '4', 'langgraph_step': 1, 'langgraph_node': 'llm_with_tools', 'langgraph_triggers': ('branch:to:llm_with_tools',), 'langgraph_path': ('__pregel_pull', 'llm_with_tools'), 'langgraph_checkpoint_ns': 'llm_with_tools:27b36710-00bd-9b15-1882-1bb449dc1180', 'checkpoint_ns': 'llm_with_tools:27b36710-00bd-9b15-1882-1bb449dc1180', 'ls_provider': 'openai', 'ls_model_name': 'gpt-4.1-mini', 'ls_model_type': 'chat', 'ls_temperature': 0.0}, 'parent_ids': ['5e5d6163-775b-4e8e-a00c-437e9a01e147', '1a6ce55d-8451-4de7-8b69-c918230ac66f']}\n",
      "{'event': 'on_chat_model_stream', 'data': {'chunk': AIMessageChunk(content=',', additional_kwargs={}, response_metadata={}, id='run--665716a5-411d-400d-8ed7-88dc1e332f3d')}, 'run_id': '665716a5-411d-400d-8ed7-88dc1e332f3d', 'name': 'ChatOpenAI', 'tags': ['seq:step:1'], 'metadata': {'thread_id': '4', 'langgraph_step': 1, 'langgraph_node': 'llm_with_tools', 'langgraph_triggers': ('branch:to:llm_with_tools',), 'langgraph_path': ('__pregel_pull', 'llm_with_tools'), 'langgraph_checkpoint_ns': 'llm_with_tools:27b36710-00bd-9b15-1882-1bb449dc1180', 'checkpoint_ns': 'llm_with_tools:27b36710-00bd-9b15-1882-1bb449dc1180', 'ls_provider': 'openai', 'ls_model_name': 'gpt-4.1-mini', 'ls_model_type': 'chat', 'ls_temperature': 0.0}, 'parent_ids': ['5e5d6163-775b-4e8e-a00c-437e9a01e147', '1a6ce55d-8451-4de7-8b69-c918230ac66f']}\n",
      "{'event': 'on_chat_model_stream', 'data': {'chunk': AIMessageChunk(content=' ODI', additional_kwargs={}, response_metadata={}, id='run--665716a5-411d-400d-8ed7-88dc1e332f3d')}, 'run_id': '665716a5-411d-400d-8ed7-88dc1e332f3d', 'name': 'ChatOpenAI', 'tags': ['seq:step:1'], 'metadata': {'thread_id': '4', 'langgraph_step': 1, 'langgraph_node': 'llm_with_tools', 'langgraph_triggers': ('branch:to:llm_with_tools',), 'langgraph_path': ('__pregel_pull', 'llm_with_tools'), 'langgraph_checkpoint_ns': 'llm_with_tools:27b36710-00bd-9b15-1882-1bb449dc1180', 'checkpoint_ns': 'llm_with_tools:27b36710-00bd-9b15-1882-1bb449dc1180', 'ls_provider': 'openai', 'ls_model_name': 'gpt-4.1-mini', 'ls_model_type': 'chat', 'ls_temperature': 0.0}, 'parent_ids': ['5e5d6163-775b-4e8e-a00c-437e9a01e147', '1a6ce55d-8451-4de7-8b69-c918230ac66f']}\n",
      "{'event': 'on_chat_model_stream', 'data': {'chunk': AIMessageChunk(content=',', additional_kwargs={}, response_metadata={}, id='run--665716a5-411d-400d-8ed7-88dc1e332f3d')}, 'run_id': '665716a5-411d-400d-8ed7-88dc1e332f3d', 'name': 'ChatOpenAI', 'tags': ['seq:step:1'], 'metadata': {'thread_id': '4', 'langgraph_step': 1, 'langgraph_node': 'llm_with_tools', 'langgraph_triggers': ('branch:to:llm_with_tools',), 'langgraph_path': ('__pregel_pull', 'llm_with_tools'), 'langgraph_checkpoint_ns': 'llm_with_tools:27b36710-00bd-9b15-1882-1bb449dc1180', 'checkpoint_ns': 'llm_with_tools:27b36710-00bd-9b15-1882-1bb449dc1180', 'ls_provider': 'openai', 'ls_model_name': 'gpt-4.1-mini', 'ls_model_type': 'chat', 'ls_temperature': 0.0}, 'parent_ids': ['5e5d6163-775b-4e8e-a00c-437e9a01e147', '1a6ce55d-8451-4de7-8b69-c918230ac66f']}\n",
      "{'event': 'on_chat_model_stream', 'data': {'chunk': AIMessageChunk(content=' or', additional_kwargs={}, response_metadata={}, id='run--665716a5-411d-400d-8ed7-88dc1e332f3d')}, 'run_id': '665716a5-411d-400d-8ed7-88dc1e332f3d', 'name': 'ChatOpenAI', 'tags': ['seq:step:1'], 'metadata': {'thread_id': '4', 'langgraph_step': 1, 'langgraph_node': 'llm_with_tools', 'langgraph_triggers': ('branch:to:llm_with_tools',), 'langgraph_path': ('__pregel_pull', 'llm_with_tools'), 'langgraph_checkpoint_ns': 'llm_with_tools:27b36710-00bd-9b15-1882-1bb449dc1180', 'checkpoint_ns': 'llm_with_tools:27b36710-00bd-9b15-1882-1bb449dc1180', 'ls_provider': 'openai', 'ls_model_name': 'gpt-4.1-mini', 'ls_model_type': 'chat', 'ls_temperature': 0.0}, 'parent_ids': ['5e5d6163-775b-4e8e-a00c-437e9a01e147', '1a6ce55d-8451-4de7-8b69-c918230ac66f']}\n",
      "{'event': 'on_chat_model_stream', 'data': {'chunk': AIMessageChunk(content=' T', additional_kwargs={}, response_metadata={}, id='run--665716a5-411d-400d-8ed7-88dc1e332f3d')}, 'run_id': '665716a5-411d-400d-8ed7-88dc1e332f3d', 'name': 'ChatOpenAI', 'tags': ['seq:step:1'], 'metadata': {'thread_id': '4', 'langgraph_step': 1, 'langgraph_node': 'llm_with_tools', 'langgraph_triggers': ('branch:to:llm_with_tools',), 'langgraph_path': ('__pregel_pull', 'llm_with_tools'), 'langgraph_checkpoint_ns': 'llm_with_tools:27b36710-00bd-9b15-1882-1bb449dc1180', 'checkpoint_ns': 'llm_with_tools:27b36710-00bd-9b15-1882-1bb449dc1180', 'ls_provider': 'openai', 'ls_model_name': 'gpt-4.1-mini', 'ls_model_type': 'chat', 'ls_temperature': 0.0}, 'parent_ids': ['5e5d6163-775b-4e8e-a00c-437e9a01e147', '1a6ce55d-8451-4de7-8b69-c918230ac66f']}\n",
      "{'event': 'on_chat_model_stream', 'data': {'chunk': AIMessageChunk(content='20', additional_kwargs={}, response_metadata={}, id='run--665716a5-411d-400d-8ed7-88dc1e332f3d')}, 'run_id': '665716a5-411d-400d-8ed7-88dc1e332f3d', 'name': 'ChatOpenAI', 'tags': ['seq:step:1'], 'metadata': {'thread_id': '4', 'langgraph_step': 1, 'langgraph_node': 'llm_with_tools', 'langgraph_triggers': ('branch:to:llm_with_tools',), 'langgraph_path': ('__pregel_pull', 'llm_with_tools'), 'langgraph_checkpoint_ns': 'llm_with_tools:27b36710-00bd-9b15-1882-1bb449dc1180', 'checkpoint_ns': 'llm_with_tools:27b36710-00bd-9b15-1882-1bb449dc1180', 'ls_provider': 'openai', 'ls_model_name': 'gpt-4.1-mini', 'ls_model_type': 'chat', 'ls_temperature': 0.0}, 'parent_ids': ['5e5d6163-775b-4e8e-a00c-437e9a01e147', '1a6ce55d-8451-4de7-8b69-c918230ac66f']}\n",
      "{'event': 'on_chat_model_stream', 'data': {'chunk': AIMessageChunk(content='?', additional_kwargs={}, response_metadata={}, id='run--665716a5-411d-400d-8ed7-88dc1e332f3d')}, 'run_id': '665716a5-411d-400d-8ed7-88dc1e332f3d', 'name': 'ChatOpenAI', 'tags': ['seq:step:1'], 'metadata': {'thread_id': '4', 'langgraph_step': 1, 'langgraph_node': 'llm_with_tools', 'langgraph_triggers': ('branch:to:llm_with_tools',), 'langgraph_path': ('__pregel_pull', 'llm_with_tools'), 'langgraph_checkpoint_ns': 'llm_with_tools:27b36710-00bd-9b15-1882-1bb449dc1180', 'checkpoint_ns': 'llm_with_tools:27b36710-00bd-9b15-1882-1bb449dc1180', 'ls_provider': 'openai', 'ls_model_name': 'gpt-4.1-mini', 'ls_model_type': 'chat', 'ls_temperature': 0.0}, 'parent_ids': ['5e5d6163-775b-4e8e-a00c-437e9a01e147', '1a6ce55d-8451-4de7-8b69-c918230ac66f']}\n",
      "{'event': 'on_chat_model_stream', 'data': {'chunk': AIMessageChunk(content='', additional_kwargs={}, response_metadata={'finish_reason': 'stop', 'model_name': 'gpt-4.1-mini-2025-04-14', 'system_fingerprint': 'fp_658b958c37', 'service_tier': 'default'}, id='run--665716a5-411d-400d-8ed7-88dc1e332f3d')}, 'run_id': '665716a5-411d-400d-8ed7-88dc1e332f3d', 'name': 'ChatOpenAI', 'tags': ['seq:step:1'], 'metadata': {'thread_id': '4', 'langgraph_step': 1, 'langgraph_node': 'llm_with_tools', 'langgraph_triggers': ('branch:to:llm_with_tools',), 'langgraph_path': ('__pregel_pull', 'llm_with_tools'), 'langgraph_checkpoint_ns': 'llm_with_tools:27b36710-00bd-9b15-1882-1bb449dc1180', 'checkpoint_ns': 'llm_with_tools:27b36710-00bd-9b15-1882-1bb449dc1180', 'ls_provider': 'openai', 'ls_model_name': 'gpt-4.1-mini', 'ls_model_type': 'chat', 'ls_temperature': 0.0}, 'parent_ids': ['5e5d6163-775b-4e8e-a00c-437e9a01e147', '1a6ce55d-8451-4de7-8b69-c918230ac66f']}\n",
      "{'event': 'on_chat_model_end', 'data': {'output': AIMessage(content=\"Hi Javed! It's great to meet you. Cricket is a fantastic sport. Do you have a favorite team or player? Or maybe you like a particular format of the game, like Test, ODI, or T20?\", additional_kwargs={}, response_metadata={'finish_reason': 'stop', 'model_name': 'gpt-4.1-mini-2025-04-14', 'system_fingerprint': 'fp_658b958c37', 'service_tier': 'default'}, id='run--665716a5-411d-400d-8ed7-88dc1e332f3d'), 'input': {'messages': [[HumanMessage(content='Hi My name is Javed and I like to play cricket', additional_kwargs={}, response_metadata={}, id='99304898-6107-4ca6-93a5-5f70c2a53249')]]}}, 'run_id': '665716a5-411d-400d-8ed7-88dc1e332f3d', 'name': 'ChatOpenAI', 'tags': ['seq:step:1'], 'metadata': {'thread_id': '4', 'langgraph_step': 1, 'langgraph_node': 'llm_with_tools', 'langgraph_triggers': ('branch:to:llm_with_tools',), 'langgraph_path': ('__pregel_pull', 'llm_with_tools'), 'langgraph_checkpoint_ns': 'llm_with_tools:27b36710-00bd-9b15-1882-1bb449dc1180', 'checkpoint_ns': 'llm_with_tools:27b36710-00bd-9b15-1882-1bb449dc1180', 'ls_provider': 'openai', 'ls_model_name': 'gpt-4.1-mini', 'ls_model_type': 'chat', 'ls_temperature': 0.0}, 'parent_ids': ['5e5d6163-775b-4e8e-a00c-437e9a01e147', '1a6ce55d-8451-4de7-8b69-c918230ac66f']}\n",
      "{'event': 'on_chain_start', 'data': {'input': {'messages': [HumanMessage(content='Hi My name is Javed and I like to play cricket', additional_kwargs={}, response_metadata={}, id='99304898-6107-4ca6-93a5-5f70c2a53249'), AIMessage(content=\"Hi Javed! It's great to meet you. Cricket is a fantastic sport. Do you have a favorite team or player? Or maybe you like a particular format of the game, like Test, ODI, or T20?\", additional_kwargs={}, response_metadata={'finish_reason': 'stop', 'model_name': 'gpt-4.1-mini-2025-04-14', 'system_fingerprint': 'fp_658b958c37', 'service_tier': 'default'}, id='run--665716a5-411d-400d-8ed7-88dc1e332f3d')]}}, 'name': 'tools_condition', 'tags': ['seq:step:3'], 'run_id': 'a74a85f0-3d4b-4b77-b886-b3f82399d3e9', 'metadata': {'thread_id': '4', 'langgraph_step': 1, 'langgraph_node': 'llm_with_tools', 'langgraph_triggers': ('branch:to:llm_with_tools',), 'langgraph_path': ('__pregel_pull', 'llm_with_tools'), 'langgraph_checkpoint_ns': 'llm_with_tools:27b36710-00bd-9b15-1882-1bb449dc1180'}, 'parent_ids': ['5e5d6163-775b-4e8e-a00c-437e9a01e147', '1a6ce55d-8451-4de7-8b69-c918230ac66f']}\n",
      "{'event': 'on_chain_end', 'data': {'output': '__end__', 'input': {'messages': [HumanMessage(content='Hi My name is Javed and I like to play cricket', additional_kwargs={}, response_metadata={}, id='99304898-6107-4ca6-93a5-5f70c2a53249'), AIMessage(content=\"Hi Javed! It's great to meet you. Cricket is a fantastic sport. Do you have a favorite team or player? Or maybe you like a particular format of the game, like Test, ODI, or T20?\", additional_kwargs={}, response_metadata={'finish_reason': 'stop', 'model_name': 'gpt-4.1-mini-2025-04-14', 'system_fingerprint': 'fp_658b958c37', 'service_tier': 'default'}, id='run--665716a5-411d-400d-8ed7-88dc1e332f3d')]}}, 'run_id': 'a74a85f0-3d4b-4b77-b886-b3f82399d3e9', 'name': 'tools_condition', 'tags': ['seq:step:3'], 'metadata': {'thread_id': '4', 'langgraph_step': 1, 'langgraph_node': 'llm_with_tools', 'langgraph_triggers': ('branch:to:llm_with_tools',), 'langgraph_path': ('__pregel_pull', 'llm_with_tools'), 'langgraph_checkpoint_ns': 'llm_with_tools:27b36710-00bd-9b15-1882-1bb449dc1180'}, 'parent_ids': ['5e5d6163-775b-4e8e-a00c-437e9a01e147', '1a6ce55d-8451-4de7-8b69-c918230ac66f']}\n",
      "{'event': 'on_chain_stream', 'run_id': '1a6ce55d-8451-4de7-8b69-c918230ac66f', 'name': 'llm_with_tools', 'tags': ['graph:step:1'], 'metadata': {'thread_id': '4', 'langgraph_step': 1, 'langgraph_node': 'llm_with_tools', 'langgraph_triggers': ('branch:to:llm_with_tools',), 'langgraph_path': ('__pregel_pull', 'llm_with_tools'), 'langgraph_checkpoint_ns': 'llm_with_tools:27b36710-00bd-9b15-1882-1bb449dc1180'}, 'data': {'chunk': {'messages': [AIMessage(content=\"Hi Javed! It's great to meet you. Cricket is a fantastic sport. Do you have a favorite team or player? Or maybe you like a particular format of the game, like Test, ODI, or T20?\", additional_kwargs={}, response_metadata={'finish_reason': 'stop', 'model_name': 'gpt-4.1-mini-2025-04-14', 'system_fingerprint': 'fp_658b958c37', 'service_tier': 'default'}, id='run--665716a5-411d-400d-8ed7-88dc1e332f3d')]}}, 'parent_ids': ['5e5d6163-775b-4e8e-a00c-437e9a01e147']}\n",
      "{'event': 'on_chain_end', 'data': {'output': {'messages': [AIMessage(content=\"Hi Javed! It's great to meet you. Cricket is a fantastic sport. Do you have a favorite team or player? Or maybe you like a particular format of the game, like Test, ODI, or T20?\", additional_kwargs={}, response_metadata={'finish_reason': 'stop', 'model_name': 'gpt-4.1-mini-2025-04-14', 'system_fingerprint': 'fp_658b958c37', 'service_tier': 'default'}, id='run--665716a5-411d-400d-8ed7-88dc1e332f3d')]}, 'input': {'messages': [HumanMessage(content='Hi My name is Javed and I like to play cricket', additional_kwargs={}, response_metadata={}, id='99304898-6107-4ca6-93a5-5f70c2a53249')]}}, 'run_id': '1a6ce55d-8451-4de7-8b69-c918230ac66f', 'name': 'llm_with_tools', 'tags': ['graph:step:1'], 'metadata': {'thread_id': '4', 'langgraph_step': 1, 'langgraph_node': 'llm_with_tools', 'langgraph_triggers': ('branch:to:llm_with_tools',), 'langgraph_path': ('__pregel_pull', 'llm_with_tools'), 'langgraph_checkpoint_ns': 'llm_with_tools:27b36710-00bd-9b15-1882-1bb449dc1180'}, 'parent_ids': ['5e5d6163-775b-4e8e-a00c-437e9a01e147']}\n",
      "{'event': 'on_chain_stream', 'run_id': '5e5d6163-775b-4e8e-a00c-437e9a01e147', 'name': 'LangGraph', 'tags': [], 'metadata': {'thread_id': '4'}, 'data': {'chunk': {'llm_with_tools': {'messages': [AIMessage(content=\"Hi Javed! It's great to meet you. Cricket is a fantastic sport. Do you have a favorite team or player? Or maybe you like a particular format of the game, like Test, ODI, or T20?\", additional_kwargs={}, response_metadata={'finish_reason': 'stop', 'model_name': 'gpt-4.1-mini-2025-04-14', 'system_fingerprint': 'fp_658b958c37', 'service_tier': 'default'}, id='run--665716a5-411d-400d-8ed7-88dc1e332f3d')]}}}, 'parent_ids': []}\n",
      "{'event': 'on_chain_end', 'data': {'output': {'messages': [HumanMessage(content='Hi My name is Javed and I like to play cricket', additional_kwargs={}, response_metadata={}, id='99304898-6107-4ca6-93a5-5f70c2a53249'), AIMessage(content=\"Hi Javed! It's great to meet you. Cricket is a fantastic sport. Do you have a favorite team or player? Or maybe you like a particular format of the game, like Test, ODI, or T20?\", additional_kwargs={}, response_metadata={'finish_reason': 'stop', 'model_name': 'gpt-4.1-mini-2025-04-14', 'system_fingerprint': 'fp_658b958c37', 'service_tier': 'default'}, id='run--665716a5-411d-400d-8ed7-88dc1e332f3d')]}}, 'run_id': '5e5d6163-775b-4e8e-a00c-437e9a01e147', 'name': 'LangGraph', 'tags': [], 'metadata': {'thread_id': '4'}, 'parent_ids': []}\n"
     ]
    }
   ],
   "source": [
    "config = {\"configurable\": {\"thread_id\": \"4\"}}\n",
    "\n",
    "async for event in app3.astream_events({\"messages\":[\"Hi My name is Javed and I like to play cricket\"]},config,version=\"v2\"):\n",
    "    print(event)"
   ]
  },
  {
   "cell_type": "markdown",
   "id": "7e42bddf",
   "metadata": {},
   "source": [
    "## Part 6 : Human In the loop"
   ]
  },
  {
   "cell_type": "code",
   "execution_count": 44,
   "id": "b0e2e11e",
   "metadata": {},
   "outputs": [],
   "source": [
    "from typing import Annotated\n",
    "\n",
    "from langchain_tavily import TavilySearch\n",
    "from typing_extensions import TypedDict\n",
    "from langgraph.checkpoint.memory import MemorySaver\n",
    "from langgraph.graph import StateGraph, START, END\n",
    "from langgraph.graph.message import add_messages\n",
    "from langgraph.prebuilt import ToolNode, tools_condition\n",
    "\n",
    "from langchain_core.tools import tool\n",
    "from langgraph.types import Command, interrupt\n",
    "\n",
    "class State(TypedDict):\n",
    "    messages: Annotated[list, add_messages]\n",
    "\n",
    "model = ChatOpenAI(model=\"gpt-4.1-mini\", temperature=0)\n",
    "\n",
    "memory = MemorySaver()\n",
    "\n",
    "@tool\n",
    "def human_assistance(query: str) -> str:\n",
    "    \"\"\"Request assistance from a human.\"\"\"\n",
    "    human_response = interrupt({\"query\": query})\n",
    "    return human_response[\"data\"]\n",
    "\n",
    "search_tool = TavilySearch(max_results=2)\n",
    "tool_list = [search_tool, human_assistance]\n",
    "llm_with_tools = model.bind_tools(tool_list)\n",
    "\n",
    "def tool_calling_llm(state: State):\n",
    "    message = llm_with_tools.invoke(state[\"messages\"])\n",
    "    return {\"messages\": [message]}\n",
    "\n",
    "\n",
    "workflow  = StateGraph(State)\n",
    "workflow.add_node(\"llm_with_tools\", tool_calling_llm)\n",
    "workflow.add_node(\"tools\", ToolNode(tools=tool_list))\n",
    "\n",
    "workflow.add_edge(START, \"llm_with_tools\")\n",
    "workflow.add_conditional_edges(\n",
    "    \"llm_with_tools\",\n",
    "    tools_condition,\n",
    ")\n",
    "workflow.add_edge(\"tools\", \"llm_with_tools\")\n",
    "\n",
    "app_human = workflow.compile(\n",
    "    checkpointer=memory,\n",
    "    interrupt_before=[\"tools\"])"
   ]
  },
  {
   "cell_type": "code",
   "execution_count": 45,
   "id": "fa86e602",
   "metadata": {},
   "outputs": [
    {
     "data": {
      "image/png": "[encoded data removed]",
      "text/plain": [
       "<langgraph.graph.state.CompiledStateGraph object at 0x10baae520>"
      ]
     },
     "metadata": {},
     "output_type": "display_data"
    }
   ],
   "source": [
    "display(app_human)"
   ]
  },
  {
   "cell_type": "code",
   "execution_count": 46,
   "id": "9b0b5ff9",
   "metadata": {},
   "outputs": [
    {
     "data": {
      "text/plain": [
       "{'messages': [HumanMessage(content='Hello, I am John', additional_kwargs={}, response_metadata={}, id='be71b89b-2972-4dca-8ced-3801689819f8'),\n",
       "  AIMessage(content='Hello John! How can I assist you today?', additional_kwargs={'refusal': None}, response_metadata={'token_usage': {'completion_tokens': 11, 'prompt_tokens': 1294, 'total_tokens': 1305, 'completion_tokens_details': {'accepted_prediction_tokens': 0, 'audio_tokens': 0, 'reasoning_tokens': 0, 'rejected_prediction_tokens': 0}, 'prompt_tokens_details': {'audio_tokens': 0, 'cached_tokens': 1280}}, 'model_name': 'gpt-4.1-mini-2025-04-14', 'system_fingerprint': 'fp_6f2eabb9a5', 'id': 'chatcmpl-C01261jur0sbzwrjANfMZ3ajD8SQf', 'service_tier': 'default', 'finish_reason': 'stop', 'logprobs': None}, id='run--b3a013ee-4d9c-4fb6-9909-f65cdf828a4d-0', usage_metadata={'input_tokens': 1294, 'output_tokens': 11, 'total_tokens': 1305, 'input_token_details': {'audio': 0, 'cache_read': 1280}, 'output_token_details': {'audio': 0, 'reasoning': 0}})]}"
      ]
     },
     "execution_count": 46,
     "metadata": {},
     "output_type": "execute_result"
    }
   ],
   "source": [
    "from langchain_core.messages import HumanMessage\n",
    "\n",
    "config = {\"configurable\": {\"thread_id\": \"1\"}}\n",
    "input_message = HumanMessage(content=\"Hello, I am John\")\n",
    "\n",
    "app_human.invoke({\"messages\": input_message}, config=config)"
   ]
  },
  {
   "cell_type": "code",
   "execution_count": 47,
   "id": "cbafabc9",
   "metadata": {},
   "outputs": [
    {
     "data": {
      "text/plain": [
       "{'messages': [HumanMessage(content='Sorry, did I already introduce myself?', additional_kwargs={}, response_metadata={}, id='f14e73c8-d709-4fb3-a981-99a872062cd1'),\n",
       "  AIMessage(content=\"No, you haven't introduced yourself yet. Would you like to introduce yourself now?\", additional_kwargs={'refusal': None}, response_metadata={'token_usage': {'completion_tokens': 17, 'prompt_tokens': 1297, 'total_tokens': 1314, 'completion_tokens_details': {'accepted_prediction_tokens': 0, 'audio_tokens': 0, 'reasoning_tokens': 0, 'rejected_prediction_tokens': 0}, 'prompt_tokens_details': {'audio_tokens': 0, 'cached_tokens': 1280}}, 'model_name': 'gpt-4.1-mini-2025-04-14', 'system_fingerprint': 'fp_6f2eabb9a5', 'id': 'chatcmpl-C012QMo5f0jZRmRUBxeZmK7gqP094', 'service_tier': 'default', 'finish_reason': 'stop', 'logprobs': None}, id='run--a3d62c29-ed1a-4659-a05b-f21425868002-0', usage_metadata={'input_tokens': 1297, 'output_tokens': 17, 'total_tokens': 1314, 'input_token_details': {'audio': 0, 'cache_read': 1280}, 'output_token_details': {'audio': 0, 'reasoning': 0}})]}"
      ]
     },
     "execution_count": 47,
     "metadata": {},
     "output_type": "execute_result"
    }
   ],
   "source": [
    "config = {\"configurable\": {\"thread_id\": \"100\"}}\n",
    "input_message = HumanMessage(content=\"Sorry, did I already introduce myself?\")\n",
    "\n",
    "app_human.invoke({\"messages\": input_message}, config=config)"
   ]
  },
  {
   "cell_type": "code",
   "execution_count": 48,
   "id": "a60e51ac",
   "metadata": {},
   "outputs": [
    {
     "data": {
      "text/plain": [
       "{'messages': [HumanMessage(content='Hello, I am John', additional_kwargs={}, response_metadata={}, id='be71b89b-2972-4dca-8ced-3801689819f8'),\n",
       "  AIMessage(content='Hello John! How can I assist you today?', additional_kwargs={'refusal': None}, response_metadata={'token_usage': {'completion_tokens': 11, 'prompt_tokens': 1294, 'total_tokens': 1305, 'completion_tokens_details': {'accepted_prediction_tokens': 0, 'audio_tokens': 0, 'reasoning_tokens': 0, 'rejected_prediction_tokens': 0}, 'prompt_tokens_details': {'audio_tokens': 0, 'cached_tokens': 1280}}, 'model_name': 'gpt-4.1-mini-2025-04-14', 'system_fingerprint': 'fp_6f2eabb9a5', 'id': 'chatcmpl-C01261jur0sbzwrjANfMZ3ajD8SQf', 'service_tier': 'default', 'finish_reason': 'stop', 'logprobs': None}, id='run--b3a013ee-4d9c-4fb6-9909-f65cdf828a4d-0', usage_metadata={'input_tokens': 1294, 'output_tokens': 11, 'total_tokens': 1305, 'input_token_details': {'audio': 0, 'cache_read': 1280}, 'output_token_details': {'audio': 0, 'reasoning': 0}}),\n",
       "  HumanMessage(content='Sorry, did I already introduce myself?', additional_kwargs={}, response_metadata={}, id='362a7a57-19c8-4311-91ba-59897f656a69'),\n",
       "  AIMessage(content='Yes, you did introduce yourself as John. How can I assist you further?', additional_kwargs={'refusal': None}, response_metadata={'token_usage': {'completion_tokens': 17, 'prompt_tokens': 1320, 'total_tokens': 1337, 'completion_tokens_details': {'accepted_prediction_tokens': 0, 'audio_tokens': 0, 'reasoning_tokens': 0, 'rejected_prediction_tokens': 0}, 'prompt_tokens_details': {'audio_tokens': 0, 'cached_tokens': 1280}}, 'model_name': 'gpt-4.1-mini-2025-04-14', 'system_fingerprint': 'fp_6f2eabb9a5', 'id': 'chatcmpl-C012gkkK5cHNkNKZnegDbpE9uuj01', 'service_tier': 'default', 'finish_reason': 'stop', 'logprobs': None}, id='run--5c2bc448-d3d5-4da7-a346-2f5a5cf374cf-0', usage_metadata={'input_tokens': 1320, 'output_tokens': 17, 'total_tokens': 1337, 'input_token_details': {'audio': 0, 'cache_read': 1280}, 'output_token_details': {'audio': 0, 'reasoning': 0}})]}"
      ]
     },
     "execution_count": 48,
     "metadata": {},
     "output_type": "execute_result"
    }
   ],
   "source": [
    "config = {\"configurable\": {\"thread_id\": \"1\"}}\n",
    "input_message = HumanMessage(content=\"Sorry, did I already introduce myself?\")\n",
    "\n",
    "app_human.invoke({\"messages\": input_message}, config=config)"
   ]
  },
  {
   "cell_type": "code",
   "execution_count": 49,
   "id": "7a7c3cb5",
   "metadata": {},
   "outputs": [
    {
     "data": {
      "text/plain": [
       "{'messages': [HumanMessage(content='Hello, I am John', additional_kwargs={}, response_metadata={}, id='be71b89b-2972-4dca-8ced-3801689819f8'),\n",
       "  AIMessage(content='Hello John! How can I assist you today?', additional_kwargs={'refusal': None}, response_metadata={'token_usage': {'completion_tokens': 11, 'prompt_tokens': 1294, 'total_tokens': 1305, 'completion_tokens_details': {'accepted_prediction_tokens': 0, 'audio_tokens': 0, 'reasoning_tokens': 0, 'rejected_prediction_tokens': 0}, 'prompt_tokens_details': {'audio_tokens': 0, 'cached_tokens': 1280}}, 'model_name': 'gpt-4.1-mini-2025-04-14', 'system_fingerprint': 'fp_6f2eabb9a5', 'id': 'chatcmpl-C01261jur0sbzwrjANfMZ3ajD8SQf', 'service_tier': 'default', 'finish_reason': 'stop', 'logprobs': None}, id='run--b3a013ee-4d9c-4fb6-9909-f65cdf828a4d-0', usage_metadata={'input_tokens': 1294, 'output_tokens': 11, 'total_tokens': 1305, 'input_token_details': {'audio': 0, 'cache_read': 1280}, 'output_token_details': {'audio': 0, 'reasoning': 0}}),\n",
       "  HumanMessage(content='Sorry, did I already introduce myself?', additional_kwargs={}, response_metadata={}, id='362a7a57-19c8-4311-91ba-59897f656a69'),\n",
       "  AIMessage(content='Yes, you did introduce yourself as John. How can I assist you further?', additional_kwargs={'refusal': None}, response_metadata={'token_usage': {'completion_tokens': 17, 'prompt_tokens': 1320, 'total_tokens': 1337, 'completion_tokens_details': {'accepted_prediction_tokens': 0, 'audio_tokens': 0, 'reasoning_tokens': 0, 'rejected_prediction_tokens': 0}, 'prompt_tokens_details': {'audio_tokens': 0, 'cached_tokens': 1280}}, 'model_name': 'gpt-4.1-mini-2025-04-14', 'system_fingerprint': 'fp_6f2eabb9a5', 'id': 'chatcmpl-C012gkkK5cHNkNKZnegDbpE9uuj01', 'service_tier': 'default', 'finish_reason': 'stop', 'logprobs': None}, id='run--5c2bc448-d3d5-4da7-a346-2f5a5cf374cf-0', usage_metadata={'input_tokens': 1320, 'output_tokens': 17, 'total_tokens': 1337, 'input_token_details': {'audio': 0, 'cache_read': 1280}, 'output_token_details': {'audio': 0, 'reasoning': 0}}),\n",
       "  HumanMessage(content='I want to invest in apple stock. how is the stock price?', additional_kwargs={}, response_metadata={}, id='8f4cbf9a-9f85-4e6b-9880-8199fe9cddc3'),\n",
       "  AIMessage(content='', additional_kwargs={'tool_calls': [{'id': 'call_7ff1lVo4RcYgHePy5NUvBw47', 'function': {'arguments': '{\"query\":\"Apple stock price\",\"include_domains\":[\"finance.yahoo.com\",\"nasdaq.com\",\"marketwatch.com\"],\"search_depth\":\"basic\"}', 'name': 'tavily_search'}, 'type': 'function'}], 'refusal': None}, response_metadata={'token_usage': {'completion_tokens': 39, 'prompt_tokens': 1358, 'total_tokens': 1397, 'completion_tokens_details': {'accepted_prediction_tokens': 0, 'audio_tokens': 0, 'reasoning_tokens': 0, 'rejected_prediction_tokens': 0}, 'prompt_tokens_details': {'audio_tokens': 0, 'cached_tokens': 1152}}, 'model_name': 'gpt-4.1-mini-2025-04-14', 'system_fingerprint': 'fp_6f2eabb9a5', 'id': 'chatcmpl-C013AOmHeAvHbVXDlVMrmKDVyDAat', 'service_tier': 'default', 'finish_reason': 'tool_calls', 'logprobs': None}, id='run--264e089c-e49b-4743-85f1-c34a3a824a38-0', tool_calls=[{'name': 'tavily_search', 'args': {'query': 'Apple stock price', 'include_domains': ['finance.yahoo.com', 'nasdaq.com', 'marketwatch.com'], 'search_depth': 'basic'}, 'id': 'call_7ff1lVo4RcYgHePy5NUvBw47', 'type': 'tool_call'}], usage_metadata={'input_tokens': 1358, 'output_tokens': 39, 'total_tokens': 1397, 'input_token_details': {'audio': 0, 'cache_read': 1152}, 'output_token_details': {'audio': 0, 'reasoning': 0}})]}"
      ]
     },
     "execution_count": 49,
     "metadata": {},
     "output_type": "execute_result"
    }
   ],
   "source": [
    "\n",
    "from langchain_core.messages import HumanMessage\n",
    "\n",
    "config = {\"configurable\": {\"thread_id\": \"1\"}}\n",
    "input_message = HumanMessage(content=\"I want to invest in apple stock. how is the stock price?\")\n",
    "\n",
    "app_human.invoke({\"messages\": input_message}, config=config)"
   ]
  },
  {
   "cell_type": "code",
   "execution_count": 50,
   "id": "81bd4495",
   "metadata": {},
   "outputs": [
    {
     "data": {
      "text/plain": [
       "('tools',)"
      ]
     },
     "execution_count": 50,
     "metadata": {},
     "output_type": "execute_result"
    }
   ],
   "source": [
    "snapshot = app_human.get_state(config)\n",
    "snapshot.next"
   ]
  },
  {
   "cell_type": "code",
   "execution_count": 51,
   "id": "b427667b",
   "metadata": {},
   "outputs": [
    {
     "data": {
      "text/plain": [
       "{'messages': [HumanMessage(content='Hello, I am John', additional_kwargs={}, response_metadata={}, id='be71b89b-2972-4dca-8ced-3801689819f8'),\n",
       "  AIMessage(content='Hello John! How can I assist you today?', additional_kwargs={'refusal': None}, response_metadata={'token_usage': {'completion_tokens': 11, 'prompt_tokens': 1294, 'total_tokens': 1305, 'completion_tokens_details': {'accepted_prediction_tokens': 0, 'audio_tokens': 0, 'reasoning_tokens': 0, 'rejected_prediction_tokens': 0}, 'prompt_tokens_details': {'audio_tokens': 0, 'cached_tokens': 1280}}, 'model_name': 'gpt-4.1-mini-2025-04-14', 'system_fingerprint': 'fp_6f2eabb9a5', 'id': 'chatcmpl-C01261jur0sbzwrjANfMZ3ajD8SQf', 'service_tier': 'default', 'finish_reason': 'stop', 'logprobs': None}, id='run--b3a013ee-4d9c-4fb6-9909-f65cdf828a4d-0', usage_metadata={'input_tokens': 1294, 'output_tokens': 11, 'total_tokens': 1305, 'input_token_details': {'audio': 0, 'cache_read': 1280}, 'output_token_details': {'audio': 0, 'reasoning': 0}}),\n",
       "  HumanMessage(content='Sorry, did I already introduce myself?', additional_kwargs={}, response_metadata={}, id='362a7a57-19c8-4311-91ba-59897f656a69'),\n",
       "  AIMessage(content='Yes, you did introduce yourself as John. How can I assist you further?', additional_kwargs={'refusal': None}, response_metadata={'token_usage': {'completion_tokens': 17, 'prompt_tokens': 1320, 'total_tokens': 1337, 'completion_tokens_details': {'accepted_prediction_tokens': 0, 'audio_tokens': 0, 'reasoning_tokens': 0, 'rejected_prediction_tokens': 0}, 'prompt_tokens_details': {'audio_tokens': 0, 'cached_tokens': 1280}}, 'model_name': 'gpt-4.1-mini-2025-04-14', 'system_fingerprint': 'fp_6f2eabb9a5', 'id': 'chatcmpl-C012gkkK5cHNkNKZnegDbpE9uuj01', 'service_tier': 'default', 'finish_reason': 'stop', 'logprobs': None}, id='run--5c2bc448-d3d5-4da7-a346-2f5a5cf374cf-0', usage_metadata={'input_tokens': 1320, 'output_tokens': 17, 'total_tokens': 1337, 'input_token_details': {'audio': 0, 'cache_read': 1280}, 'output_token_details': {'audio': 0, 'reasoning': 0}}),\n",
       "  HumanMessage(content='I want to invest in apple stock. how is the stock price?', additional_kwargs={}, response_metadata={}, id='8f4cbf9a-9f85-4e6b-9880-8199fe9cddc3'),\n",
       "  AIMessage(content='', additional_kwargs={'tool_calls': [{'id': 'call_7ff1lVo4RcYgHePy5NUvBw47', 'function': {'arguments': '{\"query\":\"Apple stock price\",\"include_domains\":[\"finance.yahoo.com\",\"nasdaq.com\",\"marketwatch.com\"],\"search_depth\":\"basic\"}', 'name': 'tavily_search'}, 'type': 'function'}], 'refusal': None}, response_metadata={'token_usage': {'completion_tokens': 39, 'prompt_tokens': 1358, 'total_tokens': 1397, 'completion_tokens_details': {'accepted_prediction_tokens': 0, 'audio_tokens': 0, 'reasoning_tokens': 0, 'rejected_prediction_tokens': 0}, 'prompt_tokens_details': {'audio_tokens': 0, 'cached_tokens': 1152}}, 'model_name': 'gpt-4.1-mini-2025-04-14', 'system_fingerprint': 'fp_6f2eabb9a5', 'id': 'chatcmpl-C013AOmHeAvHbVXDlVMrmKDVyDAat', 'service_tier': 'default', 'finish_reason': 'tool_calls', 'logprobs': None}, id='run--264e089c-e49b-4743-85f1-c34a3a824a38-0', tool_calls=[{'name': 'tavily_search', 'args': {'query': 'Apple stock price', 'include_domains': ['finance.yahoo.com', 'nasdaq.com', 'marketwatch.com'], 'search_depth': 'basic'}, 'id': 'call_7ff1lVo4RcYgHePy5NUvBw47', 'type': 'tool_call'}], usage_metadata={'input_tokens': 1358, 'output_tokens': 39, 'total_tokens': 1397, 'input_token_details': {'audio': 0, 'cache_read': 1152}, 'output_token_details': {'audio': 0, 'reasoning': 0}}),\n",
       "  ToolMessage(content='{\"query\": \"Apple stock price\", \"follow_up_questions\": null, \"answer\": null, \"images\": [], \"results\": [{\"url\": \"https://finance.yahoo.com/chart/AAPL/\", \"title\": \"AAPL Interactive Stock Chart | Apple Inc. Stock - Yahoo Finance\", \"content\": \"Apple Inc. (AAPL ). NasdaqGS - Delayed Quote • USD. 202.38 -5.19 (-2.50%). At close: August 1 at 4:00:02 PM EDT. 202.30 -0.08 (-0.04%).\", \"score\": 0.77055156, \"raw_content\": null}, {\"url\": \"https://finance.yahoo.com/quote/AAPL/holders/\", \"title\": \"Apple Inc. (AAPL) Stock Major Holders - Yahoo Finance\", \"content\": \"(AAPL) Stock Major Holders - Yahoo Finance *   Best Amazon Prime Day deals *   Best Father’s Day gifts *   Best Father’s Day gifts under $50 *   Best Amazon Prime Day deals *   Stock Market *   US English *   Stock Market | State Street Corporation | 596.03M | Mar 31, 2025 | 3.99% | 126,643,552,213 | | VANGUARD INDEX FUNDS-Vanguard Total Stock Market Index Fund | 474.59M | Mar 31, 2025 | 3.18% | 100,841,624,639 | | VANGUARD INSTITUTIONAL INDEX FUNDS-Vanguard Institutional Index Fund | 92.6M | Mar 31, 2025 | 0.62% | 19,676,680,044 | | VANGUARD WORLD FUND-Vanguard Information Technology Index Fund | 72.06M | Feb 28, 2025 | 0.48% | 15,311,036,942 |\", \"score\": 0.68571854, \"raw_content\": null}], \"response_time\": 0.92}', name='tavily_search', id='1d4b6160-df6a-4ddf-83d7-e1512b576db7', tool_call_id='call_7ff1lVo4RcYgHePy5NUvBw47'),\n",
       "  AIMessage(content='The current stock price of Apple Inc. (AAPL) is approximately $202.38, with a recent change of -$5.19 (-2.50%) as of the last close on August 1. If you need more detailed information or analysis about investing in Apple stock, feel free to ask!', additional_kwargs={'refusal': None}, response_metadata={'token_usage': {'completion_tokens': 64, 'prompt_tokens': 1831, 'total_tokens': 1895, 'completion_tokens_details': {'accepted_prediction_tokens': 0, 'audio_tokens': 0, 'reasoning_tokens': 0, 'rejected_prediction_tokens': 0}, 'prompt_tokens_details': {'audio_tokens': 0, 'cached_tokens': 1280}}, 'model_name': 'gpt-4.1-mini-2025-04-14', 'system_fingerprint': 'fp_6f2eabb9a5', 'id': 'chatcmpl-C013NF7ffybXxtOJieHQGXKDDHLis', 'service_tier': 'default', 'finish_reason': 'stop', 'logprobs': None}, id='run--7721a752-a7b3-4435-b3df-3e4e54dc025c-0', usage_metadata={'input_tokens': 1831, 'output_tokens': 64, 'total_tokens': 1895, 'input_token_details': {'audio': 0, 'cache_read': 1280}, 'output_token_details': {'audio': 0, 'reasoning': 0}})]}"
      ]
     },
     "execution_count": 51,
     "metadata": {},
     "output_type": "execute_result"
    }
   ],
   "source": [
    "app_human.invoke(None, config=config)"
   ]
  },
  {
   "cell_type": "code",
   "execution_count": null,
   "id": "4dd21032",
   "metadata": {},
   "outputs": [],
   "source": []
  },
  {
   "cell_type": "code",
   "execution_count": null,
   "id": "8d5fc1e6",
   "metadata": {},
   "outputs": [],
   "source": [
    "#extra"
   ]
  },
  {
   "cell_type": "code",
   "execution_count": 52,
   "id": "aff9417e",
   "metadata": {},
   "outputs": [
    {
     "name": "stdout",
     "output_type": "stream",
     "text": [
      "================================\u001b[1m Human Message \u001b[0m=================================\n",
      "\n",
      "I need some expert guidance and assistance for building an AI agent\n",
      "==================================\u001b[1m Ai Message \u001b[0m==================================\n",
      "\n",
      "I can help you with that! To provide the best guidance and assistance for building an AI agent, could you please share more details about your project? For example:\n",
      "\n",
      "- What is the purpose or goal of the AI agent?\n",
      "- What kind of tasks do you want the AI agent to perform?\n",
      "- Do you have any preferred technologies, platforms, or programming languages in mind?\n",
      "- Are you looking for help with design, development, training, deployment, or all stages?\n",
      "- Any specific challenges or requirements you have?\n",
      "\n",
      "The more information you provide, the better I can assist you.\n"
     ]
    }
   ],
   "source": [
    "config = {\"configurable\": {\"thread_id\": \"1\"}}\n",
    "user_input = \"I need some expert guidance and assistance for building an AI agent\"\n",
    "\n",
    "for chunk in app_human.stream({'messages':user_input},config,stream_mode=\"values\"):\n",
    "    if \"messages\" in chunk:\n",
    "        chunk[\"messages\"][-1].pretty_print()\n"
   ]
  },
  {
   "cell_type": "code",
   "execution_count": 53,
   "id": "763a6806",
   "metadata": {},
   "outputs": [
    {
     "name": "stdout",
     "output_type": "stream",
     "text": [
      "{'messages': [HumanMessage(content='Hello, I am John', additional_kwargs={}, response_metadata={}, id='be71b89b-2972-4dca-8ced-3801689819f8'), AIMessage(content='Hello John! How can I assist you today?', additional_kwargs={'refusal': None}, response_metadata={'token_usage': {'completion_tokens': 11, 'prompt_tokens': 1294, 'total_tokens': 1305, 'completion_tokens_details': {'accepted_prediction_tokens': 0, 'audio_tokens': 0, 'reasoning_tokens': 0, 'rejected_prediction_tokens': 0}, 'prompt_tokens_details': {'audio_tokens': 0, 'cached_tokens': 1280}}, 'model_name': 'gpt-4.1-mini-2025-04-14', 'system_fingerprint': 'fp_6f2eabb9a5', 'id': 'chatcmpl-C01261jur0sbzwrjANfMZ3ajD8SQf', 'service_tier': 'default', 'finish_reason': 'stop', 'logprobs': None}, id='run--b3a013ee-4d9c-4fb6-9909-f65cdf828a4d-0', usage_metadata={'input_tokens': 1294, 'output_tokens': 11, 'total_tokens': 1305, 'input_token_details': {'audio': 0, 'cache_read': 1280}, 'output_token_details': {'audio': 0, 'reasoning': 0}}), HumanMessage(content='Sorry, did I already introduce myself?', additional_kwargs={}, response_metadata={}, id='362a7a57-19c8-4311-91ba-59897f656a69'), AIMessage(content='Yes, you did introduce yourself as John. How can I assist you further?', additional_kwargs={'refusal': None}, response_metadata={'token_usage': {'completion_tokens': 17, 'prompt_tokens': 1320, 'total_tokens': 1337, 'completion_tokens_details': {'accepted_prediction_tokens': 0, 'audio_tokens': 0, 'reasoning_tokens': 0, 'rejected_prediction_tokens': 0}, 'prompt_tokens_details': {'audio_tokens': 0, 'cached_tokens': 1280}}, 'model_name': 'gpt-4.1-mini-2025-04-14', 'system_fingerprint': 'fp_6f2eabb9a5', 'id': 'chatcmpl-C012gkkK5cHNkNKZnegDbpE9uuj01', 'service_tier': 'default', 'finish_reason': 'stop', 'logprobs': None}, id='run--5c2bc448-d3d5-4da7-a346-2f5a5cf374cf-0', usage_metadata={'input_tokens': 1320, 'output_tokens': 17, 'total_tokens': 1337, 'input_token_details': {'audio': 0, 'cache_read': 1280}, 'output_token_details': {'audio': 0, 'reasoning': 0}}), HumanMessage(content='I want to invest in apple stock. how is the stock price?', additional_kwargs={}, response_metadata={}, id='8f4cbf9a-9f85-4e6b-9880-8199fe9cddc3'), AIMessage(content='', additional_kwargs={'tool_calls': [{'id': 'call_7ff1lVo4RcYgHePy5NUvBw47', 'function': {'arguments': '{\"query\":\"Apple stock price\",\"include_domains\":[\"finance.yahoo.com\",\"nasdaq.com\",\"marketwatch.com\"],\"search_depth\":\"basic\"}', 'name': 'tavily_search'}, 'type': 'function'}], 'refusal': None}, response_metadata={'token_usage': {'completion_tokens': 39, 'prompt_tokens': 1358, 'total_tokens': 1397, 'completion_tokens_details': {'accepted_prediction_tokens': 0, 'audio_tokens': 0, 'reasoning_tokens': 0, 'rejected_prediction_tokens': 0}, 'prompt_tokens_details': {'audio_tokens': 0, 'cached_tokens': 1152}}, 'model_name': 'gpt-4.1-mini-2025-04-14', 'system_fingerprint': 'fp_6f2eabb9a5', 'id': 'chatcmpl-C013AOmHeAvHbVXDlVMrmKDVyDAat', 'service_tier': 'default', 'finish_reason': 'tool_calls', 'logprobs': None}, id='run--264e089c-e49b-4743-85f1-c34a3a824a38-0', tool_calls=[{'name': 'tavily_search', 'args': {'query': 'Apple stock price', 'include_domains': ['finance.yahoo.com', 'nasdaq.com', 'marketwatch.com'], 'search_depth': 'basic'}, 'id': 'call_7ff1lVo4RcYgHePy5NUvBw47', 'type': 'tool_call'}], usage_metadata={'input_tokens': 1358, 'output_tokens': 39, 'total_tokens': 1397, 'input_token_details': {'audio': 0, 'cache_read': 1152}, 'output_token_details': {'audio': 0, 'reasoning': 0}}), ToolMessage(content='{\"query\": \"Apple stock price\", \"follow_up_questions\": null, \"answer\": null, \"images\": [], \"results\": [{\"url\": \"https://finance.yahoo.com/chart/AAPL/\", \"title\": \"AAPL Interactive Stock Chart | Apple Inc. Stock - Yahoo Finance\", \"content\": \"Apple Inc. (AAPL ). NasdaqGS - Delayed Quote • USD. 202.38 -5.19 (-2.50%). At close: August 1 at 4:00:02 PM EDT. 202.30 -0.08 (-0.04%).\", \"score\": 0.77055156, \"raw_content\": null}, {\"url\": \"https://finance.yahoo.com/quote/AAPL/holders/\", \"title\": \"Apple Inc. (AAPL) Stock Major Holders - Yahoo Finance\", \"content\": \"(AAPL) Stock Major Holders - Yahoo Finance *   Best Amazon Prime Day deals *   Best Father’s Day gifts *   Best Father’s Day gifts under $50 *   Best Amazon Prime Day deals *   Stock Market *   US English *   Stock Market | State Street Corporation | 596.03M | Mar 31, 2025 | 3.99% | 126,643,552,213 | | VANGUARD INDEX FUNDS-Vanguard Total Stock Market Index Fund | 474.59M | Mar 31, 2025 | 3.18% | 100,841,624,639 | | VANGUARD INSTITUTIONAL INDEX FUNDS-Vanguard Institutional Index Fund | 92.6M | Mar 31, 2025 | 0.62% | 19,676,680,044 | | VANGUARD WORLD FUND-Vanguard Information Technology Index Fund | 72.06M | Feb 28, 2025 | 0.48% | 15,311,036,942 |\", \"score\": 0.68571854, \"raw_content\": null}], \"response_time\": 0.92}', name='tavily_search', id='1d4b6160-df6a-4ddf-83d7-e1512b576db7', tool_call_id='call_7ff1lVo4RcYgHePy5NUvBw47'), AIMessage(content='The current stock price of Apple Inc. (AAPL) is approximately $202.38, with a recent change of -$5.19 (-2.50%) as of the last close on August 1. If you need more detailed information or analysis about investing in Apple stock, feel free to ask!', additional_kwargs={'refusal': None}, response_metadata={'token_usage': {'completion_tokens': 64, 'prompt_tokens': 1831, 'total_tokens': 1895, 'completion_tokens_details': {'accepted_prediction_tokens': 0, 'audio_tokens': 0, 'reasoning_tokens': 0, 'rejected_prediction_tokens': 0}, 'prompt_tokens_details': {'audio_tokens': 0, 'cached_tokens': 1280}}, 'model_name': 'gpt-4.1-mini-2025-04-14', 'system_fingerprint': 'fp_6f2eabb9a5', 'id': 'chatcmpl-C013NF7ffybXxtOJieHQGXKDDHLis', 'service_tier': 'default', 'finish_reason': 'stop', 'logprobs': None}, id='run--7721a752-a7b3-4435-b3df-3e4e54dc025c-0', usage_metadata={'input_tokens': 1831, 'output_tokens': 64, 'total_tokens': 1895, 'input_token_details': {'audio': 0, 'cache_read': 1280}, 'output_token_details': {'audio': 0, 'reasoning': 0}}), HumanMessage(content='I need some expert guidance and assistance for building an AI agent', additional_kwargs={}, response_metadata={}, id='45032a7d-e706-4211-ad68-b1cbc323a22d'), AIMessage(content='I can help you with that! To provide the best guidance and assistance for building an AI agent, could you please share more details about your project? For example:\\n\\n- What is the purpose or goal of the AI agent?\\n- What kind of tasks do you want the AI agent to perform?\\n- Do you have any preferred technologies, platforms, or programming languages in mind?\\n- Are you looking for help with design, development, training, deployment, or all stages?\\n- Any specific challenges or requirements you have?\\n\\nThe more information you provide, the better I can assist you.', additional_kwargs={'refusal': None}, response_metadata={'token_usage': {'completion_tokens': 117, 'prompt_tokens': 1914, 'total_tokens': 2031, 'completion_tokens_details': {'accepted_prediction_tokens': 0, 'audio_tokens': 0, 'reasoning_tokens': 0, 'rejected_prediction_tokens': 0}, 'prompt_tokens_details': {'audio_tokens': 0, 'cached_tokens': 1792}}, 'model_name': 'gpt-4.1-mini-2025-04-14', 'system_fingerprint': 'fp_6f2eabb9a5', 'id': 'chatcmpl-C013kcNGz5BvufzxIozcfSHDehe1q', 'service_tier': 'default', 'finish_reason': 'stop', 'logprobs': None}, id='run--d157be95-88bf-4d48-9118-2218ffc23877-0', usage_metadata={'input_tokens': 1914, 'output_tokens': 117, 'total_tokens': 2031, 'input_token_details': {'audio': 0, 'cache_read': 1792}, 'output_token_details': {'audio': 0, 'reasoning': 0}})]}\n"
     ]
    }
   ],
   "source": [
    "human_response = (\n",
    "    \"We, the experts are here to help! We'd recommend you check out LangGraph to build your agent.\"\n",
    "    \" It's much more reliable and extensible than simple autonomous agents.\"\n",
    ")\n",
    "\n",
    "human_command = Command(resume={\"data\": human_response})\n",
    "\n",
    "events = app_human.stream(human_command, config, stream_mode=\"values\")\n",
    "for event in events:\n",
    "    print(event)"
   ]
  },
  {
   "cell_type": "code",
   "execution_count": null,
   "id": "c4cf57a3",
   "metadata": {},
   "outputs": [],
   "source": []
  },
  {
   "cell_type": "code",
   "execution_count": null,
   "id": "e4f3b3ad",
   "metadata": {},
   "outputs": [],
   "source": []
  },
  {
   "cell_type": "code",
   "execution_count": null,
   "id": "3bc65078",
   "metadata": {},
   "outputs": [],
   "source": [
    "## good tutorial \n",
    "# https://github.com/Coding-Crashkurse/LangGraph-Tutorial/blob/main/human_in_loop.ipynb"
   ]
  },
  {
   "cell_type": "code",
   "execution_count": null,
   "id": "91e6b07a",
   "metadata": {},
   "outputs": [],
   "source": []
  },
  {
   "cell_type": "code",
   "execution_count": null,
   "id": "e8121ad5",
   "metadata": {},
   "outputs": [],
   "source": []
  }
 ],
 "metadata": {
  "kernelspec": {
   "display_name": "devday_hyd_agents-main",
   "language": "python",
   "name": "python3"
  },
  "language_info": {
   "codemirror_mode": {
    "name": "ipython",
    "version": 3
   },
   "file_extension": ".py",
   "mimetype": "text/x-python",
   "name": "python",
   "nbconvert_exporter": "python",
   "pygments_lexer": "ipython3",
   "version": "3.13.0"
  }
 },
 "nbformat": 4,
 "nbformat_minor": 5
}
